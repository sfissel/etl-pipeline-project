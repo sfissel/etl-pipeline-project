{
 "cells": [
  {
   "cell_type": "markdown",
   "metadata": {},
   "source": [
    "# Data Science Systems: Creating a segment of an ETL pipeline that will ingest and process raw data\n",
    "## - Implementing data science systems rooted in SQL and other data sources like CSVs, Open Data, and other relational data sources, as well as APIs and data transformation\n",
    "## Stephanie Fissel, October 20, 2022"
   ]
  },
  {
   "cell_type": "markdown",
   "metadata": {},
   "source": [
    "## Import Packages"
   ]
  },
  {
   "cell_type": "code",
   "execution_count": 9,
   "metadata": {},
   "outputs": [],
   "source": [
    "import json\n",
    "import csv\n",
    "import requests\n",
    "import pandas as pd\n",
    "import sqlite3"
   ]
  },
  {
   "cell_type": "markdown",
   "metadata": {},
   "source": [
    "## Fetch remote data file by URL"
   ]
  },
  {
   "cell_type": "markdown",
   "metadata": {},
   "source": [
    "### Import urllib library"
   ]
  },
  {
   "cell_type": "code",
   "execution_count": 3,
   "metadata": {},
   "outputs": [],
   "source": [
    "from urllib.request import urlopen"
   ]
  },
  {
   "cell_type": "markdown",
   "metadata": {},
   "source": [
    "### Store URL in url as parameter for urlopen"
   ]
  },
  {
   "cell_type": "code",
   "execution_count": 4,
   "metadata": {},
   "outputs": [],
   "source": [
    "url = \"https://holidays.abstractapi.com/v1/?api_key=574b7d06a79c4794a2e390123a19b857&country=US&year=2020\""
   ]
  },
  {
   "cell_type": "markdown",
   "metadata": {},
   "source": [
    "### Store the response of URL"
   ]
  },
  {
   "cell_type": "code",
   "execution_count": 6,
   "metadata": {},
   "outputs": [],
   "source": [
    "response = urlopen(url)"
   ]
  },
  {
   "cell_type": "markdown",
   "metadata": {},
   "source": [
    "### Store the JSON response from url in data"
   ]
  },
  {
   "cell_type": "code",
   "execution_count": 10,
   "metadata": {},
   "outputs": [],
   "source": [
    "data_json = json.loads(response.read())"
   ]
  },
  {
   "cell_type": "markdown",
   "metadata": {},
   "source": [
    "### Print the json response"
   ]
  },
  {
   "cell_type": "code",
   "execution_count": 13,
   "metadata": {},
   "outputs": [
    {
     "name": "stdout",
     "output_type": "stream",
     "text": [
      "[{'name': \"New Year's Day\", 'name_local': '', 'language': '', 'description': '', 'country': 'US', 'location': 'United States', 'type': 'National', 'date': '01/01/2020', 'date_year': '2020', 'date_month': '01', 'date_day': '01', 'week_day': 'Wednesday'}, {'name': 'World Braille Day', 'name_local': '', 'language': '', 'description': '', 'country': 'US', 'location': 'United States', 'type': 'Worldwide', 'date': '01/04/2020', 'date_year': '2020', 'date_month': '01', 'date_day': '04', 'week_day': 'Saturday'}, {'name': 'Epiphany', 'name_local': '', 'language': '', 'description': '', 'country': 'US', 'location': 'United States', 'type': 'Christian', 'date': '01/06/2020', 'date_year': '2020', 'date_month': '01', 'date_day': '06', 'week_day': 'Monday'}, {'name': \"International Programmers' Day\", 'name_local': '', 'language': '', 'description': '', 'country': 'US', 'location': 'United States', 'type': 'Worldwide', 'date': '01/07/2020', 'date_year': '2020', 'date_month': '01', 'date_day': '07', 'week_day': 'Tuesday'}, {'name': 'Orthodox Christmas Day', 'name_local': '', 'language': '', 'description': '', 'country': 'US', 'location': 'United States', 'type': 'Orthodox', 'date': '01/07/2020', 'date_year': '2020', 'date_month': '01', 'date_day': '07', 'week_day': 'Tuesday'}, {'name': 'Stephen Foster Memorial Day', 'name_local': '', 'language': '', 'description': '', 'country': 'US', 'location': 'United States', 'type': 'Observance', 'date': '01/13/2020', 'date_year': '2020', 'date_month': '01', 'date_day': '13', 'week_day': 'Monday'}, {'name': 'Orthodox New Year', 'name_local': '', 'language': '', 'description': '', 'country': 'US', 'location': 'United States', 'type': 'Orthodox', 'date': '01/14/2020', 'date_year': '2020', 'date_month': '01', 'date_day': '14', 'week_day': 'Tuesday'}, {'name': 'Lee-Jackson Day', 'name_local': '', 'language': '', 'description': '', 'country': 'US', 'location': 'United States - Virginia', 'type': 'Local holiday', 'date': '01/17/2020', 'date_year': '2020', 'date_month': '01', 'date_day': '17', 'week_day': 'Friday'}, {'name': \"Confederate Heroes' Day\", 'name_local': '', 'language': '', 'description': '', 'country': 'US', 'location': 'United States - Texas', 'type': 'Local holiday', 'date': '01/19/2020', 'date_year': '2020', 'date_month': '01', 'date_day': '19', 'week_day': 'Sunday'}, {'name': 'World Religion Day', 'name_local': '', 'language': '', 'description': '', 'country': 'US', 'location': 'United States', 'type': 'Worldwide', 'date': '01/19/2020', 'date_year': '2020', 'date_month': '01', 'date_day': '19', 'week_day': 'Sunday'}, {'name': \"Robert E. Lee's Birthday\", 'name_local': '', 'language': '', 'description': '', 'country': 'US', 'location': 'United States - Florida', 'type': 'Local holiday', 'date': '01/19/2020', 'date_year': '2020', 'date_month': '01', 'date_day': '19', 'week_day': 'Sunday'}, {'name': 'Martin Luther King Jr. Day', 'name_local': '', 'language': '', 'description': '', 'country': 'US', 'location': 'United States', 'type': 'National', 'date': '01/20/2020', 'date_year': '2020', 'date_month': '01', 'date_day': '20', 'week_day': 'Monday'}, {'name': 'Civil Rights Day', 'name_local': '', 'language': '', 'description': '', 'country': 'US', 'location': 'United States - Arizona', 'type': 'Local holiday', 'date': '01/20/2020', 'date_year': '2020', 'date_month': '01', 'date_day': '20', 'week_day': 'Monday'}, {'name': \"Robert E. Lee's Birthday\", 'name_local': '', 'language': '', 'description': '', 'country': 'US', 'location': 'United States - Mississippi', 'type': 'Local holiday', 'date': '01/20/2020', 'date_year': '2020', 'date_month': '01', 'date_day': '20', 'week_day': 'Monday'}, {'name': 'Civil Rights Day', 'name_local': '', 'language': '', 'description': '', 'country': 'US', 'location': 'United States - New Hampshire', 'type': 'Local holiday', 'date': '01/20/2020', 'date_year': '2020', 'date_month': '01', 'date_day': '20', 'week_day': 'Monday'}, {'name': \"Robert E. Lee's Birthday\", 'name_local': '', 'language': '', 'description': '', 'country': 'US', 'location': 'United States - Alabama', 'type': 'Local holiday', 'date': '01/20/2020', 'date_year': '2020', 'date_month': '01', 'date_day': '20', 'week_day': 'Monday'}, {'name': \"Robert E. Lee's Birthday\", 'name_local': '', 'language': '', 'description': '', 'country': 'US', 'location': 'United States', 'type': 'Local holiday', 'date': '01/20/2020', 'date_year': '2020', 'date_month': '01', 'date_day': '20', 'week_day': 'Monday'}, {'name': 'Idaho Human Rights Day', 'name_local': '', 'language': '', 'description': '', 'country': 'US', 'location': 'United States - Idaho', 'type': 'Local holiday', 'date': '01/20/2020', 'date_year': '2020', 'date_month': '01', 'date_day': '20', 'week_day': 'Monday'}, {'name': 'Chinese New Year', 'name_local': '', 'language': '', 'description': '', 'country': 'US', 'location': 'United States', 'type': 'Observance', 'date': '01/25/2020', 'date_year': '2020', 'date_month': '01', 'date_day': '25', 'week_day': 'Saturday'}, {'name': 'World Leprosy Day', 'name_local': '', 'language': '', 'description': '', 'country': 'US', 'location': 'United States', 'type': 'Worldwide', 'date': '01/26/2020', 'date_year': '2020', 'date_month': '01', 'date_day': '26', 'week_day': 'Sunday'}, {'name': 'International Customs Day', 'name_local': '', 'language': '', 'description': '', 'country': 'US', 'location': 'United States', 'type': 'Worldwide', 'date': '01/26/2020', 'date_year': '2020', 'date_month': '01', 'date_day': '26', 'week_day': 'Sunday'}, {'name': 'International Day of Commemoration in Memory of the Victims of the Holocaust', 'name_local': '', 'language': '', 'description': '', 'country': 'US', 'location': 'United States', 'type': 'UN observance', 'date': '01/27/2020', 'date_year': '2020', 'date_month': '01', 'date_day': '27', 'week_day': 'Monday'}, {'name': 'Kansas Day', 'name_local': '', 'language': '', 'description': '', 'country': 'US', 'location': 'United States', 'type': 'Observance', 'date': '01/29/2020', 'date_year': '2020', 'date_month': '01', 'date_day': '29', 'week_day': 'Wednesday'}, {'name': 'National Freedom Day', 'name_local': '', 'language': '', 'description': '', 'country': 'US', 'location': 'United States', 'type': 'Observance', 'date': '02/01/2020', 'date_year': '2020', 'date_month': '02', 'date_day': '01', 'week_day': 'Saturday'}, {'name': 'Groundhog Day', 'name_local': '', 'language': '', 'description': '', 'country': 'US', 'location': 'United States', 'type': 'Observance', 'date': '02/02/2020', 'date_year': '2020', 'date_month': '02', 'date_day': '02', 'week_day': 'Sunday'}, {'name': 'Super Bowl', 'name_local': '', 'language': '', 'description': '', 'country': 'US', 'location': 'United States', 'type': 'Sporting', 'date': '02/02/2020', 'date_year': '2020', 'date_month': '02', 'date_day': '02', 'week_day': 'Sunday'}, {'name': 'World Wetlands Day', 'name_local': '', 'language': '', 'description': '', 'country': 'US', 'location': 'United States', 'type': 'Worldwide', 'date': '02/02/2020', 'date_year': '2020', 'date_month': '02', 'date_day': '02', 'week_day': 'Sunday'}, {'name': 'Rosa Parks Day', 'name_local': '', 'language': '', 'description': '', 'country': 'US', 'location': 'United States - California', 'type': 'Local observance', 'date': '02/04/2020', 'date_year': '2020', 'date_month': '02', 'date_day': '04', 'week_day': 'Tuesday'}, {'name': 'World Cancer Day', 'name_local': '', 'language': '', 'description': '', 'country': 'US', 'location': 'United States', 'type': 'UN observance', 'date': '02/04/2020', 'date_year': '2020', 'date_month': '02', 'date_day': '04', 'week_day': 'Tuesday'}, {'name': 'Rosa Parks Day', 'name_local': '', 'language': '', 'description': '', 'country': 'US', 'location': 'United States - Missouri', 'type': 'Local observance', 'date': '02/04/2020', 'date_year': '2020', 'date_month': '02', 'date_day': '04', 'week_day': 'Tuesday'}, {'name': 'International Day of Zero Tolerance for Female Genital Mutilation', 'name_local': '', 'language': '', 'description': '', 'country': 'US', 'location': 'United States', 'type': 'UN observance', 'date': '02/06/2020', 'date_year': '2020', 'date_month': '02', 'date_day': '06', 'week_day': 'Thursday'}, {'name': 'National Wear Red Day', 'name_local': '', 'language': '', 'description': '', 'country': 'US', 'location': 'United States', 'type': 'Observance', 'date': '02/07/2020', 'date_year': '2020', 'date_month': '02', 'date_day': '07', 'week_day': 'Friday'}, {'name': \"Tu Bishvat/Tu B'Shevat\", 'name_local': '', 'language': '', 'description': '', 'country': 'US', 'location': 'United States', 'type': 'Hebrew', 'date': '02/10/2020', 'date_year': '2020', 'date_month': '02', 'date_day': '10', 'week_day': 'Monday'}, {'name': 'World Day of the Sick', 'name_local': '', 'language': '', 'description': '', 'country': 'US', 'location': 'United States', 'type': 'Worldwide', 'date': '02/11/2020', 'date_year': '2020', 'date_month': '02', 'date_day': '11', 'week_day': 'Tuesday'}, {'name': 'International Day of Women and Girls in Science', 'name_local': '', 'language': '', 'description': '', 'country': 'US', 'location': 'United States', 'type': 'UN observance', 'date': '02/11/2020', 'date_year': '2020', 'date_month': '02', 'date_day': '11', 'week_day': 'Tuesday'}, {'name': \"Lincoln's Birthday\", 'name_local': '', 'language': '', 'description': '', 'country': 'US', 'location': 'United States - Florida', 'type': 'Local observance', 'date': '02/12/2020', 'date_year': '2020', 'date_month': '02', 'date_day': '12', 'week_day': 'Wednesday'}, {'name': \"Lincoln's Birthday\", 'name_local': '', 'language': '', 'description': '', 'country': 'US', 'location': 'United States - Connecticut, Illinois, New York, Missouri', 'type': 'Local holiday', 'date': '02/12/2020', 'date_year': '2020', 'date_month': '02', 'date_day': '12', 'week_day': 'Wednesday'}, {'name': 'World Radio Day', 'name_local': '', 'language': '', 'description': '', 'country': 'US', 'location': 'United States', 'type': 'UN observance', 'date': '02/13/2020', 'date_year': '2020', 'date_month': '02', 'date_day': '13', 'week_day': 'Thursday'}, {'name': 'Statehood Day', 'name_local': '', 'language': '', 'description': '', 'country': 'US', 'location': 'United States - Arizona', 'type': 'Local observance', 'date': '02/14/2020', 'date_year': '2020', 'date_month': '02', 'date_day': '14', 'week_day': 'Friday'}, {'name': \"Valentine's Day\", 'name_local': '', 'language': '', 'description': '', 'country': 'US', 'location': 'United States', 'type': 'Observance', 'date': '02/14/2020', 'date_year': '2020', 'date_month': '02', 'date_day': '14', 'week_day': 'Friday'}, {'name': \"Susan B. Anthony's Birthday\", 'name_local': '', 'language': '', 'description': '', 'country': 'US', 'location': 'United States - Wisconsin', 'type': 'Local observance', 'date': '02/15/2020', 'date_year': '2020', 'date_month': '02', 'date_day': '15', 'week_day': 'Saturday'}, {'name': \"Susan B. Anthony's Birthday\", 'name_local': '', 'language': '', 'description': '', 'country': 'US', 'location': 'United States - New York', 'type': 'Local observance', 'date': '02/15/2020', 'date_year': '2020', 'date_month': '02', 'date_day': '15', 'week_day': 'Saturday'}, {'name': \"Susan B. Anthony's Birthday\", 'name_local': '', 'language': '', 'description': '', 'country': 'US', 'location': 'United States - California', 'type': 'Local observance', 'date': '02/15/2020', 'date_year': '2020', 'date_month': '02', 'date_day': '15', 'week_day': 'Saturday'}, {'name': \"Susan B. Anthony's Birthday\", 'name_local': '', 'language': '', 'description': '', 'country': 'US', 'location': 'United States - Florida', 'type': 'Local observance', 'date': '02/15/2020', 'date_year': '2020', 'date_month': '02', 'date_day': '15', 'week_day': 'Saturday'}, {'name': 'Elizabeth Peratrovich Day', 'name_local': '', 'language': '', 'description': '', 'country': 'US', 'location': 'United States - Alaska', 'type': 'Local observance', 'date': '02/16/2020', 'date_year': '2020', 'date_month': '02', 'date_day': '16', 'week_day': 'Sunday'}, {'name': \"Presidents' Day\", 'name_local': '', 'language': '', 'description': '', 'country': 'US', 'location': 'United States - Alabama, Alaska, Arizona, Arkansas, California, Colorado, Connecticut, District of Columbia, Florida, Hawaii, Idaho, Illinois, Maine, Maryland, Massachusetts, Michigan, Minnesota, Mississippi, Missouri, Montana, Nebraska, Nevada, New Hampshire, New Jersey, New York, North Dakota, Ohio, Oklahoma, Oregon, Pennsylvania, South Carolina, South Dakota, Tennessee, Texas, Utah, Vermont, Virginia, Washington, West Virginia, Wyoming', 'type': 'National', 'date': '02/17/2020', 'date_year': '2020', 'date_month': '02', 'date_day': '17', 'week_day': 'Monday'}, {'name': 'Daisy Gatson Bates Day', 'name_local': '', 'language': '', 'description': '', 'country': 'US', 'location': 'United States - Arkansas', 'type': 'Local holiday', 'date': '02/17/2020', 'date_year': '2020', 'date_month': '02', 'date_day': '17', 'week_day': 'Monday'}, {'name': 'World Day of Social Justice', 'name_local': '', 'language': '', 'description': '', 'country': 'US', 'location': 'United States', 'type': 'UN observance', 'date': '02/20/2020', 'date_year': '2020', 'date_month': '02', 'date_day': '20', 'week_day': 'Thursday'}, {'name': 'Maha Shivaratri', 'name_local': '', 'language': '', 'description': '', 'country': 'US', 'location': 'United States', 'type': 'Hindu', 'date': '02/21/2020', 'date_year': '2020', 'date_month': '02', 'date_day': '21', 'week_day': 'Friday'}, {'name': 'International Mother Language Day', 'name_local': '', 'language': '', 'description': '', 'country': 'US', 'location': 'United States', 'type': 'UN observance', 'date': '02/21/2020', 'date_year': '2020', 'date_month': '02', 'date_day': '21', 'week_day': 'Friday'}, {'name': 'Shrove Tuesday/Mardi Gras', 'name_local': '', 'language': '', 'description': '', 'country': 'US', 'location': 'United States - Louisiana', 'type': 'Local holiday', 'date': '02/25/2020', 'date_year': '2020', 'date_month': '02', 'date_day': '25', 'week_day': 'Tuesday'}, {'name': 'Shrove Tuesday/Mardi Gras', 'name_local': '', 'language': '', 'description': '', 'country': 'US', 'location': 'United States - Alabama', 'type': 'Local holiday', 'date': '02/25/2020', 'date_year': '2020', 'date_month': '02', 'date_day': '25', 'week_day': 'Tuesday'}, {'name': 'Shrove Tuesday/Mardi Gras', 'name_local': '', 'language': '', 'description': '', 'country': 'US', 'location': 'United States', 'type': 'Observance', 'date': '02/25/2020', 'date_year': '2020', 'date_month': '02', 'date_day': '25', 'week_day': 'Tuesday'}, {'name': 'Shrove Tuesday/Mardi Gras', 'name_local': '', 'language': '', 'description': '', 'country': 'US', 'location': 'United States - Florida', 'type': 'Local observance', 'date': '02/25/2020', 'date_year': '2020', 'date_month': '02', 'date_day': '25', 'week_day': 'Tuesday'}, {'name': 'Ash Wednesday', 'name_local': '', 'language': '', 'description': '', 'country': 'US', 'location': 'United States', 'type': 'Christian', 'date': '02/26/2020', 'date_year': '2020', 'date_month': '02', 'date_day': '26', 'week_day': 'Wednesday'}, {'name': 'Linus Pauling Day', 'name_local': '', 'language': '', 'description': '', 'country': 'US', 'location': 'United States - Oregon', 'type': 'Local observance', 'date': '02/28/2020', 'date_year': '2020', 'date_month': '02', 'date_day': '28', 'week_day': 'Friday'}, {'name': 'Leap Day', 'name_local': '', 'language': '', 'description': '', 'country': 'US', 'location': 'United States', 'type': 'Worldwide', 'date': '02/29/2020', 'date_year': '2020', 'date_month': '02', 'date_day': '29', 'week_day': 'Saturday'}, {'name': \"St. David's Day\", 'name_local': '', 'language': '', 'description': '', 'country': 'US', 'location': 'United States', 'type': 'Observance', 'date': '03/01/2020', 'date_year': '2020', 'date_month': '03', 'date_day': '01', 'week_day': 'Sunday'}, {'name': 'Zero Discrimination Day', 'name_local': '', 'language': '', 'description': '', 'country': 'US', 'location': 'United States', 'type': 'UN observance', 'date': '03/01/2020', 'date_year': '2020', 'date_month': '03', 'date_day': '01', 'week_day': 'Sunday'}, {'name': 'Self-Injury Awareness Day', 'name_local': '', 'language': '', 'description': '', 'country': 'US', 'location': 'United States', 'type': 'Worldwide', 'date': '03/01/2020', 'date_year': '2020', 'date_month': '03', 'date_day': '01', 'week_day': 'Sunday'}, {'name': 'Casimir Pulaski Day', 'name_local': '', 'language': '', 'description': '', 'country': 'US', 'location': 'United States - Illinois', 'type': 'Local observance', 'date': '03/02/2020', 'date_year': '2020', 'date_month': '03', 'date_day': '02', 'week_day': 'Monday'}, {'name': 'Read Across America Day', 'name_local': '', 'language': '', 'description': '', 'country': 'US', 'location': 'United States', 'type': 'Observance', 'date': '03/02/2020', 'date_year': '2020', 'date_month': '03', 'date_day': '02', 'week_day': 'Monday'}, {'name': 'Texas Independence Day', 'name_local': '', 'language': '', 'description': '', 'country': 'US', 'location': 'United States - Texas', 'type': 'Local holiday', 'date': '03/02/2020', 'date_year': '2020', 'date_month': '03', 'date_day': '02', 'week_day': 'Monday'}, {'name': 'World Wildlife Day', 'name_local': '', 'language': '', 'description': '', 'country': 'US', 'location': 'United States', 'type': 'UN observance', 'date': '03/03/2020', 'date_year': '2020', 'date_month': '03', 'date_day': '03', 'week_day': 'Tuesday'}, {'name': 'Town Meeting Day', 'name_local': '', 'language': '', 'description': '', 'country': 'US', 'location': 'United States - Vermont', 'type': 'Local holiday', 'date': '03/03/2020', 'date_year': '2020', 'date_month': '03', 'date_day': '03', 'week_day': 'Tuesday'}, {'name': 'Super Tuesday', 'name_local': '', 'language': '', 'description': '', 'country': 'US', 'location': 'United States - Alabama, Arkansas, California, Colorado, Maine, Massachusetts, Minnesota, North Carolina, Oklahoma, Tennessee, Texas, Utah, Vermont, Virginia', 'type': 'Observance', 'date': '03/03/2020', 'date_year': '2020', 'date_month': '03', 'date_day': '03', 'week_day': 'Tuesday'}, {'name': 'Employee Appreciation Day', 'name_local': '', 'language': '', 'description': '', 'country': 'US', 'location': 'United States', 'type': 'Observance', 'date': '03/06/2020', 'date_year': '2020', 'date_month': '03', 'date_day': '06', 'week_day': 'Friday'}, {'name': 'Daylight Saving Time starts', 'name_local': '', 'language': '', 'description': '', 'country': 'US', 'location': 'United States', 'type': 'Clock change', 'date': '03/08/2020', 'date_year': '2020', 'date_month': '03', 'date_day': '08', 'week_day': 'Sunday'}, {'name': \"International Women's Day\", 'name_local': '', 'language': '', 'description': '', 'country': 'US', 'location': 'United States', 'type': 'UN observance', 'date': '03/08/2020', 'date_year': '2020', 'date_month': '03', 'date_day': '08', 'week_day': 'Sunday'}, {'name': 'Holi', 'name_local': '', 'language': '', 'description': '', 'country': 'US', 'location': 'United States', 'type': 'Hindu', 'date': '03/09/2020', 'date_year': '2020', 'date_month': '03', 'date_day': '09', 'week_day': 'Monday'}, {'name': 'Purim', 'name_local': '', 'language': '', 'description': '', 'country': 'US', 'location': 'United States', 'type': 'Hebrew', 'date': '03/10/2020', 'date_year': '2020', 'date_month': '03', 'date_day': '10', 'week_day': 'Tuesday'}, {'name': 'World Kidney Day', 'name_local': '', 'language': '', 'description': '', 'country': 'US', 'location': 'United States', 'type': 'Worldwide', 'date': '03/12/2020', 'date_year': '2020', 'date_month': '03', 'date_day': '12', 'week_day': 'Thursday'}, {'name': 'Friday the 13th', 'name_local': '', 'language': '', 'description': '', 'country': 'US', 'location': 'United States', 'type': 'Worldwide', 'date': '03/13/2020', 'date_year': '2020', 'date_month': '03', 'date_day': '13', 'week_day': 'Friday'}, {'name': 'Evacuation Day', 'name_local': '', 'language': '', 'description': '', 'country': 'US', 'location': 'United States - Massachusetts', 'type': 'Local holiday', 'date': '03/17/2020', 'date_year': '2020', 'date_month': '03', 'date_day': '17', 'week_day': 'Tuesday'}, {'name': \"St. Patrick's Day\", 'name_local': '', 'language': '', 'description': '', 'country': 'US', 'location': 'United States', 'type': 'Observance', 'date': '03/17/2020', 'date_year': '2020', 'date_month': '03', 'date_day': '17', 'week_day': 'Tuesday'}, {'name': 'March Equinox', 'name_local': '', 'language': '', 'description': '', 'country': 'US', 'location': 'United States', 'type': 'Seasonal', 'date': '03/19/2020', 'date_year': '2020', 'date_month': '03', 'date_day': '19', 'week_day': 'Thursday'}, {'name': 'International Day of Happiness', 'name_local': '', 'language': '', 'description': '', 'country': 'US', 'location': 'United States', 'type': 'UN observance', 'date': '03/20/2020', 'date_year': '2020', 'date_month': '03', 'date_day': '20', 'week_day': 'Friday'}, {'name': 'World Down Syndrome Day', 'name_local': '', 'language': '', 'description': '', 'country': 'US', 'location': 'United States', 'type': 'UN observance', 'date': '03/21/2020', 'date_year': '2020', 'date_month': '03', 'date_day': '21', 'week_day': 'Saturday'}, {'name': 'International Day of Forests', 'name_local': '', 'language': '', 'description': '', 'country': 'US', 'location': 'United States', 'type': 'UN observance', 'date': '03/21/2020', 'date_year': '2020', 'date_month': '03', 'date_day': '21', 'week_day': 'Saturday'}, {'name': 'International Day for the Elimination of Racial Discrimination', 'name_local': '', 'language': '', 'description': '', 'country': 'US', 'location': 'United States', 'type': 'UN observance', 'date': '03/21/2020', 'date_year': '2020', 'date_month': '03', 'date_day': '21', 'week_day': 'Saturday'}, {'name': 'World Poetry Day', 'name_local': '', 'language': '', 'description': '', 'country': 'US', 'location': 'United States', 'type': 'UN observance', 'date': '03/21/2020', 'date_year': '2020', 'date_month': '03', 'date_day': '21', 'week_day': 'Saturday'}, {'name': 'International Day of Nowruz', 'name_local': '', 'language': '', 'description': '', 'country': 'US', 'location': 'United States', 'type': 'UN observance', 'date': '03/21/2020', 'date_year': '2020', 'date_month': '03', 'date_day': '21', 'week_day': 'Saturday'}, {'name': \"Isra and Mi'raj\", 'name_local': '', 'language': '', 'description': '', 'country': 'US', 'location': 'United States', 'type': 'Muslim', 'date': '03/22/2020', 'date_year': '2020', 'date_month': '03', 'date_day': '22', 'week_day': 'Sunday'}, {'name': 'World Water Day', 'name_local': '', 'language': '', 'description': '', 'country': 'US', 'location': 'United States', 'type': 'UN observance', 'date': '03/22/2020', 'date_year': '2020', 'date_month': '03', 'date_day': '22', 'week_day': 'Sunday'}, {'name': 'World Meteorological Day', 'name_local': '', 'language': '', 'description': '', 'country': 'US', 'location': 'United States', 'type': 'UN observance', 'date': '03/23/2020', 'date_year': '2020', 'date_month': '03', 'date_day': '23', 'week_day': 'Monday'}, {'name': 'World Tuberculosis Day', 'name_local': '', 'language': '', 'description': '', 'country': 'US', 'location': 'United States', 'type': 'UN observance', 'date': '03/24/2020', 'date_year': '2020', 'date_month': '03', 'date_day': '24', 'week_day': 'Tuesday'}, {'name': 'International Day for the Right to the Truth concerning Gross Human Rights Violations and for the Dignity of Victims', 'name_local': '', 'language': '', 'description': '', 'country': 'US', 'location': 'United States', 'type': 'UN observance', 'date': '03/24/2020', 'date_year': '2020', 'date_month': '03', 'date_day': '24', 'week_day': 'Tuesday'}, {'name': 'International Day of Solidarity with Detained and Missing Staff Members', 'name_local': '', 'language': '', 'description': '', 'country': 'US', 'location': 'United States', 'type': 'UN observance', 'date': '03/25/2020', 'date_year': '2020', 'date_month': '03', 'date_day': '25', 'week_day': 'Wednesday'}, {'name': 'Maryland Day', 'name_local': '', 'language': '', 'description': '', 'country': 'US', 'location': 'United States - Maryland', 'type': 'Local observance', 'date': '03/25/2020', 'date_year': '2020', 'date_month': '03', 'date_day': '25', 'week_day': 'Wednesday'}, {'name': 'International Day of Remembrance of Slavery Victims and the Transatlantic Slave Trade', 'name_local': '', 'language': '', 'description': '', 'country': 'US', 'location': 'United States', 'type': 'UN observance', 'date': '03/25/2020', 'date_year': '2020', 'date_month': '03', 'date_day': '25', 'week_day': 'Wednesday'}, {'name': 'Prince Jonah Kuhio Kalanianaole Day', 'name_local': '', 'language': '', 'description': '', 'country': 'US', 'location': 'United States - Hawaii', 'type': 'Local holiday', 'date': '03/26/2020', 'date_year': '2020', 'date_month': '03', 'date_day': '26', 'week_day': 'Thursday'}, {'name': 'Earth Hour', 'name_local': '', 'language': '', 'description': '', 'country': 'US', 'location': 'United States', 'type': 'Worldwide', 'date': '03/28/2020', 'date_year': '2020', 'date_month': '03', 'date_day': '28', 'week_day': 'Saturday'}, {'name': 'National Vietnam War Veterans Day', 'name_local': '', 'language': '', 'description': '', 'country': 'US', 'location': 'United States', 'type': 'Observance', 'date': '03/29/2020', 'date_year': '2020', 'date_month': '03', 'date_day': '29', 'week_day': 'Sunday'}, {'name': \"Seward's Day\", 'name_local': '', 'language': '', 'description': '', 'country': 'US', 'location': 'United States - Alaska', 'type': 'Local holiday', 'date': '03/30/2020', 'date_year': '2020', 'date_month': '03', 'date_day': '30', 'week_day': 'Monday'}, {'name': 'César Chávez Day', 'name_local': '', 'language': '', 'description': '', 'country': 'US', 'location': 'United States - Arizona, Michigan, Nevada, New Mexico, Utah, Wisconsin, Washington', 'type': 'Local holiday', 'date': '03/31/2020', 'date_year': '2020', 'date_month': '03', 'date_day': '31', 'week_day': 'Tuesday'}, {'name': 'César Chávez Day', 'name_local': '', 'language': '', 'description': '', 'country': 'US', 'location': 'United States - Colorado', 'type': 'Local holiday', 'date': '03/31/2020', 'date_year': '2020', 'date_month': '03', 'date_day': '31', 'week_day': 'Tuesday'}, {'name': 'César Chávez Day', 'name_local': '', 'language': '', 'description': '', 'country': 'US', 'location': 'United States - Texas', 'type': 'Local holiday', 'date': '03/31/2020', 'date_year': '2020', 'date_month': '03', 'date_day': '31', 'week_day': 'Tuesday'}, {'name': 'César Chávez Day', 'name_local': '', 'language': '', 'description': '', 'country': 'US', 'location': 'United States - California', 'type': 'Local holiday', 'date': '03/31/2020', 'date_year': '2020', 'date_month': '03', 'date_day': '31', 'week_day': 'Tuesday'}, {'name': \"April Fool's Day\", 'name_local': '', 'language': '', 'description': '', 'country': 'US', 'location': 'United States', 'type': 'Worldwide', 'date': '04/01/2020', 'date_year': '2020', 'date_month': '04', 'date_day': '01', 'week_day': 'Wednesday'}, {'name': 'Pascua Florida Day', 'name_local': '', 'language': '', 'description': '', 'country': 'US', 'location': 'United States - Florida', 'type': 'Local observance', 'date': '04/02/2020', 'date_year': '2020', 'date_month': '04', 'date_day': '02', 'week_day': 'Thursday'}, {'name': 'World Autism Awareness Day', 'name_local': '', 'language': '', 'description': '', 'country': 'US', 'location': 'United States', 'type': 'UN observance', 'date': '04/02/2020', 'date_year': '2020', 'date_month': '04', 'date_day': '02', 'week_day': 'Thursday'}, {'name': \"United Nations' Mine Awareness Day\", 'name_local': '', 'language': '', 'description': '', 'country': 'US', 'location': 'United States', 'type': 'UN observance', 'date': '04/04/2020', 'date_year': '2020', 'date_month': '04', 'date_day': '04', 'week_day': 'Saturday'}, {'name': 'Palm Sunday', 'name_local': '', 'language': '', 'description': '', 'country': 'US', 'location': 'United States', 'type': 'Christian', 'date': '04/05/2020', 'date_year': '2020', 'date_month': '04', 'date_day': '05', 'week_day': 'Sunday'}, {'name': 'National Tartan Day', 'name_local': '', 'language': '', 'description': '', 'country': 'US', 'location': 'United States', 'type': 'Observance', 'date': '04/06/2020', 'date_year': '2020', 'date_month': '04', 'date_day': '06', 'week_day': 'Monday'}, {'name': 'International Day of Sport for Development and Peace', 'name_local': '', 'language': '', 'description': '', 'country': 'US', 'location': 'United States', 'type': 'UN observance', 'date': '04/06/2020', 'date_year': '2020', 'date_month': '04', 'date_day': '06', 'week_day': 'Monday'}, {'name': 'Day of Remembrance of the Victims of the Rwanda Genocide', 'name_local': '', 'language': '', 'description': '', 'country': 'US', 'location': 'United States', 'type': 'UN observance', 'date': '04/07/2020', 'date_year': '2020', 'date_month': '04', 'date_day': '07', 'week_day': 'Tuesday'}, {'name': \"United Nations' World Health Day\", 'name_local': '', 'language': '', 'description': '', 'country': 'US', 'location': 'United States', 'type': 'UN observance', 'date': '04/07/2020', 'date_year': '2020', 'date_month': '04', 'date_day': '07', 'week_day': 'Tuesday'}, {'name': 'Passover (first day)', 'name_local': '', 'language': '', 'description': '', 'country': 'US', 'location': 'United States', 'type': 'Hebrew', 'date': '04/09/2020', 'date_year': '2020', 'date_month': '04', 'date_day': '09', 'week_day': 'Thursday'}, {'name': 'Maundy Thursday', 'name_local': '', 'language': '', 'description': '', 'country': 'US', 'location': 'United States', 'type': 'Christian', 'date': '04/09/2020', 'date_year': '2020', 'date_month': '04', 'date_day': '09', 'week_day': 'Thursday'}, {'name': 'Good Friday', 'name_local': '', 'language': '', 'description': '', 'country': 'US', 'location': 'United States - Connecticut, Hawaii, Delaware, Indiana, Kentucky, Louisiana, New Jersey, North Carolina, North Dakota, Tennessee, Texas', 'type': 'Local holiday, Christian', 'date': '04/10/2020', 'date_year': '2020', 'date_month': '04', 'date_day': '10', 'week_day': 'Friday'}, {'name': 'Holy Saturday', 'name_local': '', 'language': '', 'description': '', 'country': 'US', 'location': 'United States', 'type': 'Christian', 'date': '04/11/2020', 'date_year': '2020', 'date_month': '04', 'date_day': '11', 'week_day': 'Saturday'}, {'name': 'Easter Sunday', 'name_local': '', 'language': '', 'description': '', 'country': 'US', 'location': 'United States', 'type': 'Observance', 'date': '04/12/2020', 'date_year': '2020', 'date_month': '04', 'date_day': '12', 'week_day': 'Sunday'}, {'name': 'International Day of Human Space Flight', 'name_local': '', 'language': '', 'description': '', 'country': 'US', 'location': 'United States', 'type': 'UN observance', 'date': '04/12/2020', 'date_year': '2020', 'date_month': '04', 'date_day': '12', 'week_day': 'Sunday'}, {'name': 'Easter Monday', 'name_local': '', 'language': '', 'description': '', 'country': 'US', 'location': 'United States', 'type': 'Observance', 'date': '04/13/2020', 'date_year': '2020', 'date_month': '04', 'date_day': '13', 'week_day': 'Monday'}, {'name': \"Thomas Jefferson's Birthday\", 'name_local': '', 'language': '', 'description': '', 'country': 'US', 'location': 'United States', 'type': 'Observance', 'date': '04/13/2020', 'date_year': '2020', 'date_month': '04', 'date_day': '13', 'week_day': 'Monday'}, {'name': 'Father Damien Day', 'name_local': '', 'language': '', 'description': '', 'country': 'US', 'location': 'United States - Hawaii', 'type': 'Local observance', 'date': '04/15/2020', 'date_year': '2020', 'date_month': '04', 'date_day': '15', 'week_day': 'Wednesday'}, {'name': 'Tax Day', 'name_local': '', 'language': '', 'description': '', 'country': 'US', 'location': 'United States', 'type': 'Observance', 'date': '04/15/2020', 'date_year': '2020', 'date_month': '04', 'date_day': '15', 'week_day': 'Wednesday'}, {'name': 'Last Day of Passover', 'name_local': '', 'language': '', 'description': '', 'country': 'US', 'location': 'United States', 'type': 'Hebrew', 'date': '04/16/2020', 'date_year': '2020', 'date_month': '04', 'date_day': '16', 'week_day': 'Thursday'}, {'name': 'Emancipation Day', 'name_local': '', 'language': '', 'description': '', 'country': 'US', 'location': 'United States - District of Columbia', 'type': 'Local holiday', 'date': '04/16/2020', 'date_year': '2020', 'date_month': '04', 'date_day': '16', 'week_day': 'Thursday'}, {'name': 'Orthodox Good Friday', 'name_local': '', 'language': '', 'description': '', 'country': 'US', 'location': 'United States', 'type': 'Orthodox', 'date': '04/17/2020', 'date_year': '2020', 'date_month': '04', 'date_day': '17', 'week_day': 'Friday'}, {'name': 'Orthodox Holy Saturday', 'name_local': '', 'language': '', 'description': '', 'country': 'US', 'location': 'United States', 'type': 'Orthodox', 'date': '04/18/2020', 'date_year': '2020', 'date_month': '04', 'date_day': '18', 'week_day': 'Saturday'}, {'name': 'International Day for Monuments and Sites', 'name_local': '', 'language': '', 'description': '', 'country': 'US', 'location': 'United States', 'type': 'Worldwide', 'date': '04/18/2020', 'date_year': '2020', 'date_month': '04', 'date_day': '18', 'week_day': 'Saturday'}, {'name': 'Orthodox Easter', 'name_local': '', 'language': '', 'description': '', 'country': 'US', 'location': 'United States', 'type': 'Orthodox', 'date': '04/19/2020', 'date_year': '2020', 'date_month': '04', 'date_day': '19', 'week_day': 'Sunday'}, {'name': 'Boston Marathon', 'name_local': '', 'language': '', 'description': '', 'country': 'US', 'location': 'United States', 'type': 'Sporting', 'date': '04/20/2020', 'date_year': '2020', 'date_month': '04', 'date_day': '20', 'week_day': 'Monday'}, {'name': 'Chinese Language Day', 'name_local': '', 'language': '', 'description': '', 'country': 'US', 'location': 'United States', 'type': 'UN observance', 'date': '04/20/2020', 'date_year': '2020', 'date_month': '04', 'date_day': '20', 'week_day': 'Monday'}, {'name': 'Orthodox Easter Monday', 'name_local': '', 'language': '', 'description': '', 'country': 'US', 'location': 'United States', 'type': 'Orthodox', 'date': '04/20/2020', 'date_year': '2020', 'date_month': '04', 'date_day': '20', 'week_day': 'Monday'}, {'name': \"Patriot's Day\", 'name_local': '', 'language': '', 'description': '', 'country': 'US', 'location': 'United States - Maine, Massachusetts', 'type': 'Local holiday', 'date': '04/20/2020', 'date_year': '2020', 'date_month': '04', 'date_day': '20', 'week_day': 'Monday'}, {'name': 'Yom HaShoah', 'name_local': '', 'language': '', 'description': '', 'country': 'US', 'location': 'United States', 'type': 'Hebrew', 'date': '04/21/2020', 'date_year': '2020', 'date_month': '04', 'date_day': '21', 'week_day': 'Tuesday'}, {'name': \"National Library Workers' Day\", 'name_local': '', 'language': '', 'description': '', 'country': 'US', 'location': 'United States', 'type': 'Observance', 'date': '04/21/2020', 'date_year': '2020', 'date_month': '04', 'date_day': '21', 'week_day': 'Tuesday'}, {'name': 'San Jacinto Day', 'name_local': '', 'language': '', 'description': '', 'country': 'US', 'location': 'United States - Texas', 'type': 'Local holiday', 'date': '04/21/2020', 'date_year': '2020', 'date_month': '04', 'date_day': '21', 'week_day': 'Tuesday'}, {'name': 'Oklahoma Day', 'name_local': '', 'language': '', 'description': '', 'country': 'US', 'location': 'United States - Oklahoma', 'type': 'Local observance', 'date': '04/22/2020', 'date_year': '2020', 'date_month': '04', 'date_day': '22', 'week_day': 'Wednesday'}, {'name': 'Earth Day', 'name_local': '', 'language': '', 'description': '', 'country': 'US', 'location': 'United States', 'type': 'UN observance', 'date': '04/22/2020', 'date_year': '2020', 'date_month': '04', 'date_day': '22', 'week_day': 'Wednesday'}, {'name': 'Administrative Professionals Day', 'name_local': '', 'language': '', 'description': '', 'country': 'US', 'location': 'United States', 'type': 'Observance', 'date': '04/22/2020', 'date_year': '2020', 'date_month': '04', 'date_day': '22', 'week_day': 'Wednesday'}, {'name': 'Take our Daughters and Sons to Work Day', 'name_local': '', 'language': '', 'description': '', 'country': 'US', 'location': 'United States', 'type': 'Observance', 'date': '04/23/2020', 'date_year': '2020', 'date_month': '04', 'date_day': '23', 'week_day': 'Thursday'}, {'name': 'World Book and Copyright Day', 'name_local': '', 'language': '', 'description': '', 'country': 'US', 'location': 'United States', 'type': 'UN observance', 'date': '04/23/2020', 'date_year': '2020', 'date_month': '04', 'date_day': '23', 'week_day': 'Thursday'}, {'name': 'English Language Day', 'name_local': '', 'language': '', 'description': '', 'country': 'US', 'location': 'United States', 'type': 'UN observance', 'date': '04/23/2020', 'date_year': '2020', 'date_month': '04', 'date_day': '23', 'week_day': 'Thursday'}, {'name': 'Ramadan Starts', 'name_local': '', 'language': '', 'description': '', 'country': 'US', 'location': 'United States', 'type': 'Muslim', 'date': '04/24/2020', 'date_year': '2020', 'date_month': '04', 'date_day': '24', 'week_day': 'Friday'}, {'name': 'Arbor Day', 'name_local': '', 'language': '', 'description': '', 'country': 'US', 'location': 'United States - Nebraska', 'type': 'Local holiday', 'date': '04/24/2020', 'date_year': '2020', 'date_month': '04', 'date_day': '24', 'week_day': 'Friday'}, {'name': 'World Malaria Day', 'name_local': '', 'language': '', 'description': '', 'country': 'US', 'location': 'United States', 'type': 'UN observance', 'date': '04/25/2020', 'date_year': '2020', 'date_month': '04', 'date_day': '25', 'week_day': 'Saturday'}, {'name': 'World Intellectual Property Day', 'name_local': '', 'language': '', 'description': '', 'country': 'US', 'location': 'United States', 'type': 'UN observance', 'date': '04/26/2020', 'date_year': '2020', 'date_month': '04', 'date_day': '26', 'week_day': 'Sunday'}, {'name': 'International Chernobyl Disaster Remembrance Day', 'name_local': '', 'language': '', 'description': '', 'country': 'US', 'location': 'United States', 'type': 'UN observance', 'date': '04/26/2020', 'date_year': '2020', 'date_month': '04', 'date_day': '26', 'week_day': 'Sunday'}, {'name': \"Confederate Heroes' Day\", 'name_local': '', 'language': '', 'description': '', 'country': 'US', 'location': 'United States - Florida', 'type': 'Local observance', 'date': '04/26/2020', 'date_year': '2020', 'date_month': '04', 'date_day': '26', 'week_day': 'Sunday'}, {'name': 'Confederate Memorial Day', 'name_local': '', 'language': '', 'description': '', 'country': 'US', 'location': 'United States - Mississippi', 'type': 'Local holiday', 'date': '04/27/2020', 'date_year': '2020', 'date_month': '04', 'date_day': '27', 'week_day': 'Monday'}, {'name': \"Confederate Heroes' Day\", 'name_local': '', 'language': '', 'description': '', 'country': 'US', 'location': 'United States - Florida', 'type': 'Local observance', 'date': '04/27/2020', 'date_year': '2020', 'date_month': '04', 'date_day': '27', 'week_day': 'Monday'}, {'name': 'State Holiday', 'name_local': '', 'language': '', 'description': '', 'country': 'US', 'location': 'United States - Georgia', 'type': 'Local holiday', 'date': '04/27/2020', 'date_year': '2020', 'date_month': '04', 'date_day': '27', 'week_day': 'Monday'}, {'name': 'Confederate Memorial Day', 'name_local': '', 'language': '', 'description': '', 'country': 'US', 'location': 'United States - Alabama', 'type': 'Local holiday', 'date': '04/27/2020', 'date_year': '2020', 'date_month': '04', 'date_day': '27', 'week_day': 'Monday'}, {'name': 'World Day for Safety and Health at Work', 'name_local': '', 'language': '', 'description': '', 'country': 'US', 'location': 'United States', 'type': 'UN observance', 'date': '04/28/2020', 'date_year': '2020', 'date_month': '04', 'date_day': '28', 'week_day': 'Tuesday'}, {'name': 'Day of Remembrance for all Victims of Chemical Warfare', 'name_local': '', 'language': '', 'description': '', 'country': 'US', 'location': 'United States', 'type': 'UN observance', 'date': '04/29/2020', 'date_year': '2020', 'date_month': '04', 'date_day': '29', 'week_day': 'Wednesday'}, {'name': \"Yom Ha'atzmaut\", 'name_local': '', 'language': '', 'description': '', 'country': 'US', 'location': 'United States', 'type': 'Hebrew', 'date': '04/29/2020', 'date_year': '2020', 'date_month': '04', 'date_day': '29', 'week_day': 'Wednesday'}, {'name': 'International Jazz Day', 'name_local': '', 'language': '', 'description': '', 'country': 'US', 'location': 'United States', 'type': 'UN observance', 'date': '04/30/2020', 'date_year': '2020', 'date_month': '04', 'date_day': '30', 'week_day': 'Thursday'}, {'name': 'Loyalty Day', 'name_local': '', 'language': '', 'description': '', 'country': 'US', 'location': 'United States', 'type': 'Observance', 'date': '05/01/2020', 'date_year': '2020', 'date_month': '05', 'date_day': '01', 'week_day': 'Friday'}, {'name': 'Kentucky Oaks', 'name_local': '', 'language': '', 'description': '', 'country': 'US', 'location': 'United States', 'type': 'Sporting', 'date': '05/01/2020', 'date_year': '2020', 'date_month': '05', 'date_day': '01', 'week_day': 'Friday'}, {'name': 'Lei Day', 'name_local': '', 'language': '', 'description': '', 'country': 'US', 'location': 'United States - Hawaii', 'type': 'Local observance', 'date': '05/01/2020', 'date_year': '2020', 'date_month': '05', 'date_day': '01', 'week_day': 'Friday'}, {'name': 'Law Day', 'name_local': '', 'language': '', 'description': '', 'country': 'US', 'location': 'United States', 'type': 'Observance', 'date': '05/01/2020', 'date_year': '2020', 'date_month': '05', 'date_day': '01', 'week_day': 'Friday'}, {'name': 'World Tuna Day', 'name_local': '', 'language': '', 'description': '', 'country': 'US', 'location': 'United States', 'type': 'UN observance', 'date': '05/02/2020', 'date_year': '2020', 'date_month': '05', 'date_day': '02', 'week_day': 'Saturday'}, {'name': 'National Explosive Ordnance Disposal (EOD) Day', 'name_local': '', 'language': '', 'description': '', 'country': 'US', 'location': 'United States', 'type': 'Observance', 'date': '05/02/2020', 'date_year': '2020', 'date_month': '05', 'date_day': '02', 'week_day': 'Saturday'}, {'name': 'Kentucky Derby', 'name_local': '', 'language': '', 'description': '', 'country': 'US', 'location': 'United States', 'type': 'Sporting', 'date': '05/02/2020', 'date_year': '2020', 'date_month': '05', 'date_day': '02', 'week_day': 'Saturday'}, {'name': 'World Press Freedom Day', 'name_local': '', 'language': '', 'description': '', 'country': 'US', 'location': 'United States', 'type': 'UN observance', 'date': '05/03/2020', 'date_year': '2020', 'date_month': '05', 'date_day': '03', 'week_day': 'Sunday'}, {'name': 'Kent State Shootings Remembrance', 'name_local': '', 'language': '', 'description': '', 'country': 'US', 'location': 'United States - Ohio', 'type': 'Local observance', 'date': '05/04/2020', 'date_year': '2020', 'date_month': '05', 'date_day': '04', 'week_day': 'Monday'}, {'name': 'Rhode Island Independence Day', 'name_local': '', 'language': '', 'description': '', 'country': 'US', 'location': 'United States - Rhode Island', 'type': 'Local observance', 'date': '05/04/2020', 'date_year': '2020', 'date_month': '05', 'date_day': '04', 'week_day': 'Monday'}, {'name': 'Cinco de Mayo', 'name_local': '', 'language': '', 'description': '', 'country': 'US', 'location': 'United States', 'type': 'Observance', 'date': '05/05/2020', 'date_year': '2020', 'date_month': '05', 'date_day': '05', 'week_day': 'Tuesday'}, {'name': 'National Nurses Day', 'name_local': '', 'language': '', 'description': '', 'country': 'US', 'location': 'United States', 'type': 'Observance', 'date': '05/06/2020', 'date_year': '2020', 'date_month': '05', 'date_day': '06', 'week_day': 'Wednesday'}, {'name': 'National Day of Prayer', 'name_local': '', 'language': '', 'description': '', 'country': 'US', 'location': 'United States', 'type': 'Observance', 'date': '05/07/2020', 'date_year': '2020', 'date_month': '05', 'date_day': '07', 'week_day': 'Thursday'}, {'name': 'Time of Remembrance and Reconciliation for Those Who Lost Their Lives during the Second World War', 'name_local': '', 'language': '', 'description': '', 'country': 'US', 'location': 'United States', 'type': 'UN observance', 'date': '05/08/2020', 'date_year': '2020', 'date_month': '05', 'date_day': '08', 'week_day': 'Friday'}, {'name': 'Truman Day', 'name_local': '', 'language': '', 'description': '', 'country': 'US', 'location': 'United States - Missouri', 'type': 'Local holiday', 'date': '05/08/2020', 'date_year': '2020', 'date_month': '05', 'date_day': '08', 'week_day': 'Friday'}, {'name': 'Victory in Europe Day', 'name_local': '', 'language': '', 'description': '', 'country': 'US', 'location': 'United States', 'type': 'Observance', 'date': '05/08/2020', 'date_year': '2020', 'date_month': '05', 'date_day': '08', 'week_day': 'Friday'}, {'name': 'World Ovarian Cancer Day', 'name_local': '', 'language': '', 'description': '', 'country': 'US', 'location': 'United States', 'type': 'Worldwide', 'date': '05/08/2020', 'date_year': '2020', 'date_month': '05', 'date_day': '08', 'week_day': 'Friday'}, {'name': 'Military Spouse Appreciation Day', 'name_local': '', 'language': '', 'description': '', 'country': 'US', 'location': 'United States', 'type': 'Observance', 'date': '05/08/2020', 'date_year': '2020', 'date_month': '05', 'date_day': '08', 'week_day': 'Friday'}, {'name': 'World Migratory Bird Day', 'name_local': '', 'language': '', 'description': '', 'country': 'US', 'location': 'United States', 'type': 'UN observance', 'date': '05/09/2020', 'date_year': '2020', 'date_month': '05', 'date_day': '09', 'week_day': 'Saturday'}, {'name': 'Confederate Memorial Day', 'name_local': '', 'language': '', 'description': '', 'country': 'US', 'location': 'United States - South Carolina', 'type': 'Local holiday', 'date': '05/10/2020', 'date_year': '2020', 'date_month': '05', 'date_day': '10', 'week_day': 'Sunday'}, {'name': 'Confederate Memorial Day', 'name_local': '', 'language': '', 'description': '', 'country': 'US', 'location': 'United States - North Carolina', 'type': 'Local observance', 'date': '05/10/2020', 'date_year': '2020', 'date_month': '05', 'date_day': '10', 'week_day': 'Sunday'}, {'name': \"Mother's Day\", 'name_local': '', 'language': '', 'description': '', 'country': 'US', 'location': 'United States', 'type': 'Observance', 'date': '05/10/2020', 'date_year': '2020', 'date_month': '05', 'date_day': '10', 'week_day': 'Sunday'}, {'name': 'Confederate Memorial Day', 'name_local': '', 'language': '', 'description': '', 'country': 'US', 'location': 'United States - South Carolina', 'type': 'Local holiday', 'date': '05/11/2020', 'date_year': '2020', 'date_month': '05', 'date_day': '11', 'week_day': 'Monday'}, {'name': 'Primary Election Day', 'name_local': '', 'language': '', 'description': '', 'country': 'US', 'location': 'United States - West Virginia', 'type': 'Local holiday', 'date': '05/12/2020', 'date_year': '2020', 'date_month': '05', 'date_day': '12', 'week_day': 'Tuesday'}, {'name': 'Lag BaOmer', 'name_local': '', 'language': '', 'description': '', 'country': 'US', 'location': 'United States', 'type': 'Hebrew', 'date': '05/12/2020', 'date_year': '2020', 'date_month': '05', 'date_day': '12', 'week_day': 'Tuesday'}, {'name': 'International Nurses Day', 'name_local': '', 'language': '', 'description': '', 'country': 'US', 'location': 'United States', 'type': 'Worldwide', 'date': '05/12/2020', 'date_year': '2020', 'date_month': '05', 'date_day': '12', 'week_day': 'Tuesday'}, {'name': 'Peace Officers Memorial Day', 'name_local': '', 'language': '', 'description': '', 'country': 'US', 'location': 'United States', 'type': 'Observance', 'date': '05/15/2020', 'date_year': '2020', 'date_month': '05', 'date_day': '15', 'week_day': 'Friday'}, {'name': 'International Day of Families', 'name_local': '', 'language': '', 'description': '', 'country': 'US', 'location': 'United States', 'type': 'UN observance', 'date': '05/15/2020', 'date_year': '2020', 'date_month': '05', 'date_day': '15', 'week_day': 'Friday'}, {'name': 'National Defense Transportation Day', 'name_local': '', 'language': '', 'description': '', 'country': 'US', 'location': 'United States', 'type': 'Observance', 'date': '05/15/2020', 'date_year': '2020', 'date_month': '05', 'date_day': '15', 'week_day': 'Friday'}, {'name': 'Armed Forces Day', 'name_local': '', 'language': '', 'description': '', 'country': 'US', 'location': 'United States', 'type': 'Observance', 'date': '05/16/2020', 'date_year': '2020', 'date_month': '05', 'date_day': '16', 'week_day': 'Saturday'}, {'name': 'Preakness Stakes', 'name_local': '', 'language': '', 'description': '', 'country': 'US', 'location': 'United States', 'type': 'Sporting', 'date': '05/16/2020', 'date_year': '2020', 'date_month': '05', 'date_day': '16', 'week_day': 'Saturday'}, {'name': 'World Information Society Day', 'name_local': '', 'language': '', 'description': '', 'country': 'US', 'location': 'United States', 'type': 'UN observance', 'date': '05/17/2020', 'date_year': '2020', 'date_month': '05', 'date_day': '17', 'week_day': 'Sunday'}, {'name': 'Lailat al-Qadr', 'name_local': '', 'language': '', 'description': '', 'country': 'US', 'location': 'United States', 'type': 'Muslim', 'date': '05/19/2020', 'date_year': '2020', 'date_month': '05', 'date_day': '19', 'week_day': 'Tuesday'}, {'name': 'Emergency Medical Services for Children Day', 'name_local': '', 'language': '', 'description': '', 'country': 'US', 'location': 'United States', 'type': 'Observance', 'date': '05/20/2020', 'date_year': '2020', 'date_month': '05', 'date_day': '20', 'week_day': 'Wednesday'}, {'name': 'World Autoimmune / Autoinflammatory Arthritis Day', 'name_local': '', 'language': '', 'description': '', 'country': 'US', 'location': 'United States', 'type': 'Worldwide', 'date': '05/20/2020', 'date_year': '2020', 'date_month': '05', 'date_day': '20', 'week_day': 'Wednesday'}, {'name': 'Ascension Day', 'name_local': '', 'language': '', 'description': '', 'country': 'US', 'location': 'United States', 'type': 'Christian', 'date': '05/21/2020', 'date_year': '2020', 'date_month': '05', 'date_day': '21', 'week_day': 'Thursday'}, {'name': 'World Day for Cultural Diversity for Dialogue and Development', 'name_local': '', 'language': '', 'description': '', 'country': 'US', 'location': 'United States', 'type': 'UN observance', 'date': '05/21/2020', 'date_year': '2020', 'date_month': '05', 'date_day': '21', 'week_day': 'Thursday'}, {'name': 'Harvey Milk Day', 'name_local': '', 'language': '', 'description': '', 'country': 'US', 'location': 'United States - California', 'type': 'Local observance', 'date': '05/22/2020', 'date_year': '2020', 'date_month': '05', 'date_day': '22', 'week_day': 'Friday'}, {'name': 'International Day for Biological Diversity', 'name_local': '', 'language': '', 'description': '', 'country': 'US', 'location': 'United States', 'type': 'UN observance', 'date': '05/22/2020', 'date_year': '2020', 'date_month': '05', 'date_day': '22', 'week_day': 'Friday'}, {'name': 'National Maritime Day', 'name_local': '', 'language': '', 'description': '', 'country': 'US', 'location': 'United States', 'type': 'Observance', 'date': '05/22/2020', 'date_year': '2020', 'date_month': '05', 'date_day': '22', 'week_day': 'Friday'}, {'name': 'International Day to End Obstetric Fistula', 'name_local': '', 'language': '', 'description': '', 'country': 'US', 'location': 'United States', 'type': 'UN observance', 'date': '05/23/2020', 'date_year': '2020', 'date_month': '05', 'date_day': '23', 'week_day': 'Saturday'}, {'name': 'Eid al-Fitr', 'name_local': '', 'language': '', 'description': '', 'country': 'US', 'location': 'United States', 'type': 'Muslim', 'date': '05/24/2020', 'date_year': '2020', 'date_month': '05', 'date_day': '24', 'week_day': 'Sunday'}, {'name': 'African Liberation Day', 'name_local': '', 'language': '', 'description': '', 'country': 'US', 'location': 'United States', 'type': 'Worldwide', 'date': '05/25/2020', 'date_year': '2020', 'date_month': '05', 'date_day': '25', 'week_day': 'Monday'}, {'name': 'Memorial Day', 'name_local': '', 'language': '', 'description': '', 'country': 'US', 'location': 'United States', 'type': 'National', 'date': '05/25/2020', 'date_year': '2020', 'date_month': '05', 'date_day': '25', 'week_day': 'Monday'}, {'name': \"National Missing Children's Day\", 'name_local': '', 'language': '', 'description': '', 'country': 'US', 'location': 'United States', 'type': 'Observance', 'date': '05/25/2020', 'date_year': '2020', 'date_month': '05', 'date_day': '25', 'week_day': 'Monday'}, {'name': \"Jefferson Davis' Birthday\", 'name_local': '', 'language': '', 'description': '', 'country': 'US', 'location': 'United States - Mississippi', 'type': 'Local observance', 'date': '05/25/2020', 'date_year': '2020', 'date_month': '05', 'date_day': '25', 'week_day': 'Monday'}, {'name': 'Shavuot', 'name_local': '', 'language': '', 'description': '', 'country': 'US', 'location': 'United States', 'type': 'Hebrew', 'date': '05/29/2020', 'date_year': '2020', 'date_month': '05', 'date_day': '29', 'week_day': 'Friday'}, {'name': 'International Day of United Nations Peacekeepers', 'name_local': '', 'language': '', 'description': '', 'country': 'US', 'location': 'United States', 'type': 'UN observance', 'date': '05/29/2020', 'date_year': '2020', 'date_month': '05', 'date_day': '29', 'week_day': 'Friday'}, {'name': 'World No Tobacco Day', 'name_local': '', 'language': '', 'description': '', 'country': 'US', 'location': 'United States', 'type': 'UN observance', 'date': '05/31/2020', 'date_year': '2020', 'date_month': '05', 'date_day': '31', 'week_day': 'Sunday'}, {'name': 'Pentecost', 'name_local': '', 'language': '', 'description': '', 'country': 'US', 'location': 'United States', 'type': 'Christian', 'date': '05/31/2020', 'date_year': '2020', 'date_month': '05', 'date_day': '31', 'week_day': 'Sunday'}, {'name': 'Whit Monday', 'name_local': '', 'language': '', 'description': '', 'country': 'US', 'location': 'United States', 'type': 'Christian', 'date': '06/01/2020', 'date_year': '2020', 'date_month': '06', 'date_day': '01', 'week_day': 'Monday'}, {'name': \"Jefferson Davis' Birthday\", 'name_local': '', 'language': '', 'description': '', 'country': 'US', 'location': 'United States - Alabama', 'type': 'Local holiday', 'date': '06/01/2020', 'date_year': '2020', 'date_month': '06', 'date_day': '01', 'week_day': 'Monday'}, {'name': 'Statehood Day', 'name_local': '', 'language': '', 'description': '', 'country': 'US', 'location': 'United States - Kentucky, Tennessee', 'type': 'Local observance', 'date': '06/01/2020', 'date_year': '2020', 'date_month': '06', 'date_day': '01', 'week_day': 'Monday'}, {'name': 'Global Day of Parents', 'name_local': '', 'language': '', 'description': '', 'country': 'US', 'location': 'United States', 'type': 'UN observance', 'date': '06/01/2020', 'date_year': '2020', 'date_month': '06', 'date_day': '01', 'week_day': 'Monday'}, {'name': \"Jefferson Davis' Birthday\", 'name_local': '', 'language': '', 'description': '', 'country': 'US', 'location': 'United States - Florida', 'type': 'Local observance', 'date': '06/03/2020', 'date_year': '2020', 'date_month': '06', 'date_day': '03', 'week_day': 'Wednesday'}, {'name': 'International Day of Innocent Children Victims of Aggression', 'name_local': '', 'language': '', 'description': '', 'country': 'US', 'location': 'United States', 'type': 'UN observance', 'date': '06/04/2020', 'date_year': '2020', 'date_month': '06', 'date_day': '04', 'week_day': 'Thursday'}, {'name': 'World Environment Day', 'name_local': '', 'language': '', 'description': '', 'country': 'US', 'location': 'United States', 'type': 'UN observance', 'date': '06/05/2020', 'date_year': '2020', 'date_month': '06', 'date_day': '05', 'week_day': 'Friday'}, {'name': 'Belmont Stakes', 'name_local': '', 'language': '', 'description': '', 'country': 'US', 'location': 'United States', 'type': 'Sporting', 'date': '06/06/2020', 'date_year': '2020', 'date_month': '06', 'date_day': '06', 'week_day': 'Saturday'}, {'name': 'D-Day', 'name_local': '', 'language': '', 'description': '', 'country': 'US', 'location': 'United States', 'type': 'Observance', 'date': '06/06/2020', 'date_year': '2020', 'date_month': '06', 'date_day': '06', 'week_day': 'Saturday'}, {'name': 'Trinity Sunday', 'name_local': '', 'language': '', 'description': '', 'country': 'US', 'location': 'United States', 'type': 'Christian', 'date': '06/07/2020', 'date_year': '2020', 'date_month': '06', 'date_day': '07', 'week_day': 'Sunday'}, {'name': 'World Oceans Day', 'name_local': '', 'language': '', 'description': '', 'country': 'US', 'location': 'United States', 'type': 'UN observance', 'date': '06/08/2020', 'date_year': '2020', 'date_month': '06', 'date_day': '08', 'week_day': 'Monday'}, {'name': 'Corpus Christi', 'name_local': '', 'language': '', 'description': '', 'country': 'US', 'location': 'United States', 'type': 'Christian', 'date': '06/11/2020', 'date_year': '2020', 'date_month': '06', 'date_day': '11', 'week_day': 'Thursday'}, {'name': 'Kamehameha Day', 'name_local': '', 'language': '', 'description': '', 'country': 'US', 'location': 'United States - Hawaii', 'type': 'Local holiday', 'date': '06/11/2020', 'date_year': '2020', 'date_month': '06', 'date_day': '11', 'week_day': 'Thursday'}, {'name': 'World Day Against Child Labour', 'name_local': '', 'language': '', 'description': '', 'country': 'US', 'location': 'United States', 'type': 'UN observance', 'date': '06/12/2020', 'date_year': '2020', 'date_month': '06', 'date_day': '12', 'week_day': 'Friday'}, {'name': 'International Albinism Awareness Day', 'name_local': '', 'language': '', 'description': '', 'country': 'US', 'location': 'United States', 'type': 'UN observance', 'date': '06/13/2020', 'date_year': '2020', 'date_month': '06', 'date_day': '13', 'week_day': 'Saturday'}, {'name': 'World Blood Donor Day', 'name_local': '', 'language': '', 'description': '', 'country': 'US', 'location': 'United States', 'type': 'UN observance', 'date': '06/14/2020', 'date_year': '2020', 'date_month': '06', 'date_day': '14', 'week_day': 'Sunday'}, {'name': 'Bunker Hill Day', 'name_local': '', 'language': '', 'description': '', 'country': 'US', 'location': 'United States - Massachusetts', 'type': 'Local observance', 'date': '06/14/2020', 'date_year': '2020', 'date_month': '06', 'date_day': '14', 'week_day': 'Sunday'}, {'name': 'Army Birthday', 'name_local': '', 'language': '', 'description': '', 'country': 'US', 'location': 'United States', 'type': 'Observance', 'date': '06/14/2020', 'date_year': '2020', 'date_month': '06', 'date_day': '14', 'week_day': 'Sunday'}, {'name': 'Flag Day', 'name_local': '', 'language': '', 'description': '', 'country': 'US', 'location': 'United States', 'type': 'Observance', 'date': '06/14/2020', 'date_year': '2020', 'date_month': '06', 'date_day': '14', 'week_day': 'Sunday'}, {'name': 'World Elder Abuse Awareness Day', 'name_local': '', 'language': '', 'description': '', 'country': 'US', 'location': 'United States', 'type': 'UN observance', 'date': '06/15/2020', 'date_year': '2020', 'date_month': '06', 'date_day': '15', 'week_day': 'Monday'}, {'name': 'International Day of Family Remittances', 'name_local': '', 'language': '', 'description': '', 'country': 'US', 'location': 'United States', 'type': 'UN observance', 'date': '06/16/2020', 'date_year': '2020', 'date_month': '06', 'date_day': '16', 'week_day': 'Tuesday'}, {'name': 'World Day to Combat Desertification and Drought', 'name_local': '', 'language': '', 'description': '', 'country': 'US', 'location': 'United States', 'type': 'UN observance', 'date': '06/17/2020', 'date_year': '2020', 'date_month': '06', 'date_day': '17', 'week_day': 'Wednesday'}, {'name': 'Juneteenth', 'name_local': '', 'language': '', 'description': '', 'country': 'US', 'location': 'United States - Alabama, Alaska, Arkansas, Arizona, California, Colorado, Connecticut, Delaware, District of Columbia, Florida, Georgia, Idaho, Illinois, Indiana, Iowa, Louisiana, Kansas, Kentucky, Massachusetts, Maryland, Maine, Michigan, Missouri, Minnesota, Mississippi, Nebraska, New Hampshire, New Jersey, New Mexico, Nevada, New York, North Carolina, Ohio, Oklahoma, Oregon, Pennsylvania, Rhode Island, South Carolina, Tennessee, Utah, Virginia, Vermont, Washington, West Virginia, Wisconsin, Wyoming', 'type': 'Local observance', 'date': '06/19/2020', 'date_year': '2020', 'date_month': '06', 'date_day': '19', 'week_day': 'Friday'}, {'name': 'International Day for the Elimination of Sexual Violence in Conflict', 'name_local': '', 'language': '', 'description': '', 'country': 'US', 'location': 'United States', 'type': 'UN observance', 'date': '06/19/2020', 'date_year': '2020', 'date_month': '06', 'date_day': '19', 'week_day': 'Friday'}, {'name': 'Emancipation Day', 'name_local': '', 'language': '', 'description': '', 'country': 'US', 'location': 'United States - Texas', 'type': 'Local holiday', 'date': '06/19/2020', 'date_year': '2020', 'date_month': '06', 'date_day': '19', 'week_day': 'Friday'}, {'name': 'World Refugee Day', 'name_local': '', 'language': '', 'description': '', 'country': 'US', 'location': 'United States', 'type': 'UN observance', 'date': '06/20/2020', 'date_year': '2020', 'date_month': '06', 'date_day': '20', 'week_day': 'Saturday'}, {'name': 'West Virginia Day', 'name_local': '', 'language': '', 'description': '', 'country': 'US', 'location': 'United States - West Virginia', 'type': 'Local holiday', 'date': '06/20/2020', 'date_year': '2020', 'date_month': '06', 'date_day': '20', 'week_day': 'Saturday'}, {'name': 'June Solstice', 'name_local': '', 'language': '', 'description': '', 'country': 'US', 'location': 'United States', 'type': 'Seasonal', 'date': '06/20/2020', 'date_year': '2020', 'date_month': '06', 'date_day': '20', 'week_day': 'Saturday'}, {'name': 'American Eagle Day', 'name_local': '', 'language': '', 'description': '', 'country': 'US', 'location': 'United States', 'type': 'Observance', 'date': '06/20/2020', 'date_year': '2020', 'date_month': '06', 'date_day': '20', 'week_day': 'Saturday'}, {'name': \"Father's Day\", 'name_local': '', 'language': '', 'description': '', 'country': 'US', 'location': 'United States', 'type': 'Observance', 'date': '06/21/2020', 'date_year': '2020', 'date_month': '06', 'date_day': '21', 'week_day': 'Sunday'}, {'name': 'International Day of Yoga', 'name_local': '', 'language': '', 'description': '', 'country': 'US', 'location': 'United States', 'type': 'UN observance', 'date': '06/21/2020', 'date_year': '2020', 'date_month': '06', 'date_day': '21', 'week_day': 'Sunday'}, {'name': \"International Widows' Day\", 'name_local': '', 'language': '', 'description': '', 'country': 'US', 'location': 'United States', 'type': 'UN observance', 'date': '06/23/2020', 'date_year': '2020', 'date_month': '06', 'date_day': '23', 'week_day': 'Tuesday'}, {'name': 'Public Service Day', 'name_local': '', 'language': '', 'description': '', 'country': 'US', 'location': 'United States', 'type': 'UN observance', 'date': '06/23/2020', 'date_year': '2020', 'date_month': '06', 'date_day': '23', 'week_day': 'Tuesday'}, {'name': 'Day of the Seafarer', 'name_local': '', 'language': '', 'description': '', 'country': 'US', 'location': 'United States', 'type': 'UN observance', 'date': '06/25/2020', 'date_year': '2020', 'date_month': '06', 'date_day': '25', 'week_day': 'Thursday'}, {'name': 'International Day in Support of Victims of Torture', 'name_local': '', 'language': '', 'description': '', 'country': 'US', 'location': 'United States', 'type': 'UN observance', 'date': '06/26/2020', 'date_year': '2020', 'date_month': '06', 'date_day': '26', 'week_day': 'Friday'}, {'name': 'International Day Against Drug Abuse and Illicit Trafficking', 'name_local': '', 'language': '', 'description': '', 'country': 'US', 'location': 'United States', 'type': 'UN observance', 'date': '06/26/2020', 'date_year': '2020', 'date_month': '06', 'date_day': '26', 'week_day': 'Friday'}, {'name': 'International Asteroid Day', 'name_local': '', 'language': '', 'description': '', 'country': 'US', 'location': 'United States', 'type': 'UN observance', 'date': '06/30/2020', 'date_year': '2020', 'date_month': '06', 'date_day': '30', 'week_day': 'Tuesday'}, {'name': 'Independence Day', 'name_local': '', 'language': '', 'description': '', 'country': 'US', 'location': 'United States', 'type': 'National', 'date': '07/03/2020', 'date_year': '2020', 'date_month': '07', 'date_day': '03', 'week_day': 'Friday'}, {'name': 'Independence Day', 'name_local': '', 'language': '', 'description': '', 'country': 'US', 'location': 'United States', 'type': 'National', 'date': '07/04/2020', 'date_year': '2020', 'date_month': '07', 'date_day': '04', 'week_day': 'Saturday'}, {'name': 'International Day of Cooperatives', 'name_local': '', 'language': '', 'description': '', 'country': 'US', 'location': 'United States', 'type': 'UN observance', 'date': '07/04/2020', 'date_year': '2020', 'date_month': '07', 'date_day': '04', 'week_day': 'Saturday'}, {'name': 'World Population Day', 'name_local': '', 'language': '', 'description': '', 'country': 'US', 'location': 'United States', 'type': 'UN observance', 'date': '07/11/2020', 'date_year': '2020', 'date_month': '07', 'date_day': '11', 'week_day': 'Saturday'}, {'name': 'Nathan Bedford Forrest Day', 'name_local': '', 'language': '', 'description': '', 'country': 'US', 'location': 'United States - Tennessee', 'type': 'Local observance', 'date': '07/13/2020', 'date_year': '2020', 'date_month': '07', 'date_day': '13', 'week_day': 'Monday'}, {'name': 'Bastille Day', 'name_local': '', 'language': '', 'description': '', 'country': 'US', 'location': 'United States', 'type': 'Observance', 'date': '07/14/2020', 'date_year': '2020', 'date_month': '07', 'date_day': '14', 'week_day': 'Tuesday'}, {'name': 'World Youth Skills Day', 'name_local': '', 'language': '', 'description': '', 'country': 'US', 'location': 'United States', 'type': 'UN observance', 'date': '07/15/2020', 'date_year': '2020', 'date_month': '07', 'date_day': '15', 'week_day': 'Wednesday'}, {'name': 'Nelson Mandela Day', 'name_local': '', 'language': '', 'description': '', 'country': 'US', 'location': 'United States', 'type': 'UN observance', 'date': '07/18/2020', 'date_year': '2020', 'date_month': '07', 'date_day': '18', 'week_day': 'Saturday'}, {'name': 'Pioneer Day', 'name_local': '', 'language': '', 'description': '', 'country': 'US', 'location': 'United States - Utah', 'type': 'Local holiday', 'date': '07/24/2020', 'date_year': '2020', 'date_month': '07', 'date_day': '24', 'week_day': 'Friday'}, {'name': \"Parents' Day\", 'name_local': '', 'language': '', 'description': '', 'country': 'US', 'location': 'United States', 'type': 'Observance', 'date': '07/26/2020', 'date_year': '2020', 'date_month': '07', 'date_day': '26', 'week_day': 'Sunday'}, {'name': 'National Korean War Veterans Armistice Day', 'name_local': '', 'language': '', 'description': '', 'country': 'US', 'location': 'United States', 'type': 'Observance', 'date': '07/27/2020', 'date_year': '2020', 'date_month': '07', 'date_day': '27', 'week_day': 'Monday'}, {'name': 'World Hepatitis Day', 'name_local': '', 'language': '', 'description': '', 'country': 'US', 'location': 'United States', 'type': 'UN observance', 'date': '07/28/2020', 'date_year': '2020', 'date_month': '07', 'date_day': '28', 'week_day': 'Tuesday'}, {'name': 'International Day of Friendship', 'name_local': '', 'language': '', 'description': '', 'country': 'US', 'location': 'United States', 'type': 'UN observance', 'date': '07/30/2020', 'date_year': '2020', 'date_month': '07', 'date_day': '30', 'week_day': 'Thursday'}, {'name': 'World Day against Trafficking in Persons', 'name_local': '', 'language': '', 'description': '', 'country': 'US', 'location': 'United States', 'type': 'UN observance', 'date': '07/30/2020', 'date_year': '2020', 'date_month': '07', 'date_day': '30', 'week_day': 'Thursday'}, {'name': \"Tisha B'Av\", 'name_local': '', 'language': '', 'description': '', 'country': 'US', 'location': 'United States', 'type': 'Hebrew', 'date': '07/30/2020', 'date_year': '2020', 'date_month': '07', 'date_day': '30', 'week_day': 'Thursday'}, {'name': 'Eid al-Adha', 'name_local': '', 'language': '', 'description': '', 'country': 'US', 'location': 'United States', 'type': 'Muslim', 'date': '07/31/2020', 'date_year': '2020', 'date_month': '07', 'date_day': '31', 'week_day': 'Friday'}, {'name': 'Colorado Day', 'name_local': '', 'language': '', 'description': '', 'country': 'US', 'location': 'United States - Colorado', 'type': 'Local observance', 'date': '08/01/2020', 'date_year': '2020', 'date_month': '08', 'date_day': '01', 'week_day': 'Saturday'}, {'name': 'Raksha Bandhan', 'name_local': '', 'language': '', 'description': '', 'country': 'US', 'location': 'United States', 'type': 'Hindu', 'date': '08/03/2020', 'date_year': '2020', 'date_month': '08', 'date_day': '03', 'week_day': 'Monday'}, {'name': 'Coast Guard Birthday', 'name_local': '', 'language': '', 'description': '', 'country': 'US', 'location': 'United States', 'type': 'Observance', 'date': '08/04/2020', 'date_year': '2020', 'date_month': '08', 'date_day': '04', 'week_day': 'Tuesday'}, {'name': 'Purple Heart Day', 'name_local': '', 'language': '', 'description': '', 'country': 'US', 'location': 'United States', 'type': 'Observance', 'date': '08/07/2020', 'date_year': '2020', 'date_month': '08', 'date_day': '07', 'week_day': 'Friday'}, {'name': \"International Day of the World's Indigenous People\", 'name_local': '', 'language': '', 'description': '', 'country': 'US', 'location': 'United States', 'type': 'UN observance', 'date': '08/09/2020', 'date_year': '2020', 'date_month': '08', 'date_day': '09', 'week_day': 'Sunday'}, {'name': 'Victory Day', 'name_local': '', 'language': '', 'description': '', 'country': 'US', 'location': 'United States - Rhode Island', 'type': 'Local holiday', 'date': '08/10/2020', 'date_year': '2020', 'date_month': '08', 'date_day': '10', 'week_day': 'Monday'}, {'name': 'Janmashtami', 'name_local': '', 'language': '', 'description': '', 'country': 'US', 'location': 'United States', 'type': 'Hindu', 'date': '08/10/2020', 'date_year': '2020', 'date_month': '08', 'date_day': '10', 'week_day': 'Monday'}, {'name': 'International Youth Day', 'name_local': '', 'language': '', 'description': '', 'country': 'US', 'location': 'United States', 'type': 'UN observance', 'date': '08/12/2020', 'date_year': '2020', 'date_month': '08', 'date_day': '12', 'week_day': 'Wednesday'}, {'name': 'Assumption of Mary', 'name_local': '', 'language': '', 'description': '', 'country': 'US', 'location': 'United States', 'type': 'Christian', 'date': '08/15/2020', 'date_year': '2020', 'date_month': '08', 'date_day': '15', 'week_day': 'Saturday'}, {'name': 'Bennington Battle Day', 'name_local': '', 'language': '', 'description': '', 'country': 'US', 'location': 'United States - Vermont', 'type': 'Local holiday', 'date': '08/16/2020', 'date_year': '2020', 'date_month': '08', 'date_day': '16', 'week_day': 'Sunday'}, {'name': 'Bennington Battle Day', 'name_local': '', 'language': '', 'description': '', 'country': 'US', 'location': 'United States - Vermont', 'type': 'Local holiday', 'date': '08/17/2020', 'date_year': '2020', 'date_month': '08', 'date_day': '17', 'week_day': 'Monday'}, {'name': 'National Aviation Day', 'name_local': '', 'language': '', 'description': '', 'country': 'US', 'location': 'United States', 'type': 'Observance', 'date': '08/19/2020', 'date_year': '2020', 'date_month': '08', 'date_day': '19', 'week_day': 'Wednesday'}, {'name': 'World Humanitarian Day', 'name_local': '', 'language': '', 'description': '', 'country': 'US', 'location': 'United States', 'type': 'UN observance', 'date': '08/19/2020', 'date_year': '2020', 'date_month': '08', 'date_day': '19', 'week_day': 'Wednesday'}, {'name': 'Muharram', 'name_local': '', 'language': '', 'description': '', 'country': 'US', 'location': 'United States', 'type': 'Muslim', 'date': '08/20/2020', 'date_year': '2020', 'date_month': '08', 'date_day': '20', 'week_day': 'Thursday'}, {'name': 'Hawaii Statehood Day', 'name_local': '', 'language': '', 'description': '', 'country': 'US', 'location': 'United States - Hawaii', 'type': 'Local holiday', 'date': '08/21/2020', 'date_year': '2020', 'date_month': '08', 'date_day': '21', 'week_day': 'Friday'}, {'name': 'Senior Citizens Day', 'name_local': '', 'language': '', 'description': '', 'country': 'US', 'location': 'United States', 'type': 'Observance', 'date': '08/21/2020', 'date_year': '2020', 'date_month': '08', 'date_day': '21', 'week_day': 'Friday'}, {'name': 'Ganesh Chaturthi', 'name_local': '', 'language': '', 'description': '', 'country': 'US', 'location': 'United States', 'type': 'Hindu', 'date': '08/21/2020', 'date_year': '2020', 'date_month': '08', 'date_day': '21', 'week_day': 'Friday'}, {'name': 'International Day for the Remembrance of the Slave Trade and its Abolition', 'name_local': '', 'language': '', 'description': '', 'country': 'US', 'location': 'United States', 'type': 'UN observance', 'date': '08/23/2020', 'date_year': '2020', 'date_month': '08', 'date_day': '23', 'week_day': 'Sunday'}, {'name': \"Women's Equality Day\", 'name_local': '', 'language': '', 'description': '', 'country': 'US', 'location': 'United States', 'type': 'Observance', 'date': '08/26/2020', 'date_year': '2020', 'date_month': '08', 'date_day': '26', 'week_day': 'Wednesday'}, {'name': 'Lyndon Baines Johnson Day', 'name_local': '', 'language': '', 'description': '', 'country': 'US', 'location': 'United States - Texas', 'type': 'Local holiday', 'date': '08/27/2020', 'date_year': '2020', 'date_month': '08', 'date_day': '27', 'week_day': 'Thursday'}, {'name': 'International Day against Nuclear Tests', 'name_local': '', 'language': '', 'description': '', 'country': 'US', 'location': 'United States', 'type': 'UN observance', 'date': '08/29/2020', 'date_year': '2020', 'date_month': '08', 'date_day': '29', 'week_day': 'Saturday'}, {'name': 'International Day of the Victims of Enforced Disappearances', 'name_local': '', 'language': '', 'description': '', 'country': 'US', 'location': 'United States', 'type': 'UN observance', 'date': '08/30/2020', 'date_year': '2020', 'date_month': '08', 'date_day': '30', 'week_day': 'Sunday'}, {'name': 'International Overdose Awareness Day', 'name_local': '', 'language': '', 'description': '', 'country': 'US', 'location': 'United States', 'type': 'Worldwide', 'date': '08/31/2020', 'date_year': '2020', 'date_month': '08', 'date_day': '31', 'week_day': 'Monday'}, {'name': 'World Sexual Health Day', 'name_local': '', 'language': '', 'description': '', 'country': 'US', 'location': 'United States', 'type': 'Worldwide', 'date': '09/04/2020', 'date_year': '2020', 'date_month': '09', 'date_day': '04', 'week_day': 'Friday'}, {'name': 'International Day of Charity', 'name_local': '', 'language': '', 'description': '', 'country': 'US', 'location': 'United States', 'type': 'UN observance', 'date': '09/05/2020', 'date_year': '2020', 'date_month': '09', 'date_day': '05', 'week_day': 'Saturday'}, {'name': 'Labor Day', 'name_local': '', 'language': '', 'description': '', 'country': 'US', 'location': 'United States', 'type': 'National', 'date': '09/07/2020', 'date_year': '2020', 'date_month': '09', 'date_day': '07', 'week_day': 'Monday'}, {'name': 'International Literacy Day', 'name_local': '', 'language': '', 'description': '', 'country': 'US', 'location': 'United States', 'type': 'UN observance', 'date': '09/08/2020', 'date_year': '2020', 'date_month': '09', 'date_day': '08', 'week_day': 'Tuesday'}, {'name': 'California Admission Day', 'name_local': '', 'language': '', 'description': '', 'country': 'US', 'location': 'United States - California', 'type': 'Local observance', 'date': '09/09/2020', 'date_year': '2020', 'date_month': '09', 'date_day': '09', 'week_day': 'Wednesday'}, {'name': 'World Suicide Prevention Day', 'name_local': '', 'language': '', 'description': '', 'country': 'US', 'location': 'United States', 'type': 'UN observance', 'date': '09/10/2020', 'date_year': '2020', 'date_month': '09', 'date_day': '10', 'week_day': 'Thursday'}, {'name': 'Patriot Day', 'name_local': '', 'language': '', 'description': '', 'country': 'US', 'location': 'United States', 'type': 'Observance', 'date': '09/11/2020', 'date_year': '2020', 'date_month': '09', 'date_day': '11', 'week_day': 'Friday'}, {'name': 'Carl Garner Federal Lands Cleanup Day', 'name_local': '', 'language': '', 'description': '', 'country': 'US', 'location': 'United States', 'type': 'Observance', 'date': '09/12/2020', 'date_year': '2020', 'date_month': '09', 'date_day': '12', 'week_day': 'Saturday'}, {'name': \"International Programmers' Day\", 'name_local': '', 'language': '', 'description': '', 'country': 'US', 'location': 'United States', 'type': 'Worldwide', 'date': '09/12/2020', 'date_year': '2020', 'date_month': '09', 'date_day': '12', 'week_day': 'Saturday'}, {'name': 'International Day for South-South Cooperation', 'name_local': '', 'language': '', 'description': '', 'country': 'US', 'location': 'United States', 'type': 'UN observance', 'date': '09/12/2020', 'date_year': '2020', 'date_month': '09', 'date_day': '12', 'week_day': 'Saturday'}, {'name': 'National Grandparents Day', 'name_local': '', 'language': '', 'description': '', 'country': 'US', 'location': 'United States', 'type': 'Observance', 'date': '09/13/2020', 'date_year': '2020', 'date_month': '09', 'date_day': '13', 'week_day': 'Sunday'}, {'name': 'International Day of Democracy', 'name_local': '', 'language': '', 'description': '', 'country': 'US', 'location': 'United States', 'type': 'UN observance', 'date': '09/15/2020', 'date_year': '2020', 'date_month': '09', 'date_day': '15', 'week_day': 'Tuesday'}, {'name': 'International Day for the Preservation of the Ozone Layer', 'name_local': '', 'language': '', 'description': '', 'country': 'US', 'location': 'United States', 'type': 'UN observance', 'date': '09/16/2020', 'date_year': '2020', 'date_month': '09', 'date_day': '16', 'week_day': 'Wednesday'}, {'name': 'Constitution Day and Citizenship Day', 'name_local': '', 'language': '', 'description': '', 'country': 'US', 'location': 'United States', 'type': 'Observance', 'date': '09/17/2020', 'date_year': '2020', 'date_month': '09', 'date_day': '17', 'week_day': 'Thursday'}, {'name': 'Air Force Birthday', 'name_local': '', 'language': '', 'description': '', 'country': 'US', 'location': 'United States', 'type': 'Observance', 'date': '09/18/2020', 'date_year': '2020', 'date_month': '09', 'date_day': '18', 'week_day': 'Friday'}, {'name': 'National POW/MIA Recognition Day', 'name_local': '', 'language': '', 'description': '', 'country': 'US', 'location': 'United States', 'type': 'Observance', 'date': '09/18/2020', 'date_year': '2020', 'date_month': '09', 'date_day': '18', 'week_day': 'Friday'}, {'name': 'Rosh Hashana', 'name_local': '', 'language': '', 'description': '', 'country': 'US', 'location': 'United States', 'type': 'Hebrew', 'date': '09/19/2020', 'date_year': '2020', 'date_month': '09', 'date_day': '19', 'week_day': 'Saturday'}, {'name': 'National CleanUp Day', 'name_local': '', 'language': '', 'description': '', 'country': 'US', 'location': 'United States', 'type': 'Observance', 'date': '09/19/2020', 'date_year': '2020', 'date_month': '09', 'date_day': '19', 'week_day': 'Saturday'}, {'name': 'Rosh Hashana', 'name_local': '', 'language': '', 'description': '', 'country': 'US', 'location': 'United States - Texas', 'type': 'Local holiday', 'date': '09/19/2020', 'date_year': '2020', 'date_month': '09', 'date_day': '19', 'week_day': 'Saturday'}, {'name': 'International Day of Peace', 'name_local': '', 'language': '', 'description': '', 'country': 'US', 'location': 'United States', 'type': 'UN observance', 'date': '09/21/2020', 'date_year': '2020', 'date_month': '09', 'date_day': '21', 'week_day': 'Monday'}, {'name': 'September Equinox', 'name_local': '', 'language': '', 'description': '', 'country': 'US', 'location': 'United States', 'type': 'Seasonal', 'date': '09/22/2020', 'date_year': '2020', 'date_month': '09', 'date_day': '22', 'week_day': 'Tuesday'}, {'name': 'Emancipation Day', 'name_local': '', 'language': '', 'description': '', 'country': 'US', 'location': 'United States - Ohio', 'type': 'Local observance', 'date': '09/22/2020', 'date_year': '2020', 'date_month': '09', 'date_day': '22', 'week_day': 'Tuesday'}, {'name': 'International Celebrate Bisexuality Day', 'name_local': '', 'language': '', 'description': '', 'country': 'US', 'location': 'United States', 'type': 'Worldwide', 'date': '09/23/2020', 'date_year': '2020', 'date_month': '09', 'date_day': '23', 'week_day': 'Wednesday'}, {'name': 'World Maritime Day', 'name_local': '', 'language': '', 'description': '', 'country': 'US', 'location': 'United States', 'type': 'UN observance', 'date': '09/24/2020', 'date_year': '2020', 'date_month': '09', 'date_day': '24', 'week_day': 'Thursday'}, {'name': 'Native American Day', 'name_local': '', 'language': '', 'description': '', 'country': 'US', 'location': 'United States - California', 'type': 'Local observance', 'date': '09/25/2020', 'date_year': '2020', 'date_month': '09', 'date_day': '25', 'week_day': 'Friday'}, {'name': 'International Day for the Total Elimination of Nuclear Weapons', 'name_local': '', 'language': '', 'description': '', 'country': 'US', 'location': 'United States', 'type': 'UN observance', 'date': '09/26/2020', 'date_year': '2020', 'date_month': '09', 'date_day': '26', 'week_day': 'Saturday'}, {'name': \"Gold Star Mother's Day\", 'name_local': '', 'language': '', 'description': '', 'country': 'US', 'location': 'United States', 'type': 'Observance', 'date': '09/27/2020', 'date_year': '2020', 'date_month': '09', 'date_day': '27', 'week_day': 'Sunday'}, {'name': 'World Tourism Day', 'name_local': '', 'language': '', 'description': '', 'country': 'US', 'location': 'United States', 'type': 'UN observance', 'date': '09/27/2020', 'date_year': '2020', 'date_month': '09', 'date_day': '27', 'week_day': 'Sunday'}, {'name': 'Yom Kippur', 'name_local': '', 'language': '', 'description': '', 'country': 'US', 'location': 'United States', 'type': 'Hebrew', 'date': '09/28/2020', 'date_year': '2020', 'date_month': '09', 'date_day': '28', 'week_day': 'Monday'}, {'name': 'Yom Kippur', 'name_local': '', 'language': '', 'description': '', 'country': 'US', 'location': 'United States - Texas', 'type': 'Local holiday', 'date': '09/28/2020', 'date_year': '2020', 'date_month': '09', 'date_day': '28', 'week_day': 'Monday'}, {'name': 'World Rabies Day', 'name_local': '', 'language': '', 'description': '', 'country': 'US', 'location': 'United States', 'type': 'UN observance', 'date': '09/28/2020', 'date_year': '2020', 'date_month': '09', 'date_day': '28', 'week_day': 'Monday'}, {'name': 'World Heart Day', 'name_local': '', 'language': '', 'description': '', 'country': 'US', 'location': 'United States', 'type': 'Worldwide', 'date': '09/29/2020', 'date_year': '2020', 'date_month': '09', 'date_day': '29', 'week_day': 'Tuesday'}, {'name': 'International Day of Older Persons', 'name_local': '', 'language': '', 'description': '', 'country': 'US', 'location': 'United States', 'type': 'UN observance', 'date': '10/01/2020', 'date_year': '2020', 'date_month': '10', 'date_day': '01', 'week_day': 'Thursday'}, {'name': 'World Vegetarian Day', 'name_local': '', 'language': '', 'description': '', 'country': 'US', 'location': 'United States', 'type': 'Worldwide', 'date': '10/01/2020', 'date_year': '2020', 'date_month': '10', 'date_day': '01', 'week_day': 'Thursday'}, {'name': 'International Day of Non-Violence', 'name_local': '', 'language': '', 'description': '', 'country': 'US', 'location': 'United States', 'type': 'UN observance', 'date': '10/02/2020', 'date_year': '2020', 'date_month': '10', 'date_day': '02', 'week_day': 'Friday'}, {'name': 'First Day of Sukkot', 'name_local': '', 'language': '', 'description': '', 'country': 'US', 'location': 'United States', 'type': 'Hebrew', 'date': '10/03/2020', 'date_year': '2020', 'date_month': '10', 'date_day': '03', 'week_day': 'Saturday'}, {'name': 'Feast of St Francis of Assisi', 'name_local': '', 'language': '', 'description': '', 'country': 'US', 'location': 'United States', 'type': 'Christian', 'date': '10/04/2020', 'date_year': '2020', 'date_month': '10', 'date_day': '04', 'week_day': 'Sunday'}, {'name': 'World Habitat Day', 'name_local': '', 'language': '', 'description': '', 'country': 'US', 'location': 'United States', 'type': 'UN observance', 'date': '10/05/2020', 'date_year': '2020', 'date_month': '10', 'date_day': '05', 'week_day': 'Monday'}, {'name': 'Child Health Day', 'name_local': '', 'language': '', 'description': '', 'country': 'US', 'location': 'United States', 'type': 'Observance', 'date': '10/05/2020', 'date_year': '2020', 'date_month': '10', 'date_day': '05', 'week_day': 'Monday'}, {'name': \"World Teachers' Day\", 'name_local': '', 'language': '', 'description': '', 'country': 'US', 'location': 'United States', 'type': 'UN observance', 'date': '10/05/2020', 'date_year': '2020', 'date_month': '10', 'date_day': '05', 'week_day': 'Monday'}, {'name': 'World Cerebral Palsy Day', 'name_local': '', 'language': '', 'description': '', 'country': 'US', 'location': 'United States', 'type': 'Worldwide', 'date': '10/06/2020', 'date_year': '2020', 'date_month': '10', 'date_day': '06', 'week_day': 'Tuesday'}, {'name': 'World Sight Day', 'name_local': '', 'language': '', 'description': '', 'country': 'US', 'location': 'United States', 'type': 'Worldwide', 'date': '10/08/2020', 'date_year': '2020', 'date_month': '10', 'date_day': '08', 'week_day': 'Thursday'}, {'name': 'World Post Day', 'name_local': '', 'language': '', 'description': '', 'country': 'US', 'location': 'United States', 'type': 'UN observance', 'date': '10/09/2020', 'date_year': '2020', 'date_month': '10', 'date_day': '09', 'week_day': 'Friday'}, {'name': 'Leif Erikson Day', 'name_local': '', 'language': '', 'description': '', 'country': 'US', 'location': 'United States', 'type': 'Observance', 'date': '10/09/2020', 'date_year': '2020', 'date_month': '10', 'date_day': '09', 'week_day': 'Friday'}, {'name': 'Last Day of Sukkot', 'name_local': '', 'language': '', 'description': '', 'country': 'US', 'location': 'United States', 'type': 'Hebrew', 'date': '10/09/2020', 'date_year': '2020', 'date_month': '10', 'date_day': '09', 'week_day': 'Friday'}, {'name': 'World Mental Health Day', 'name_local': '', 'language': '', 'description': '', 'country': 'US', 'location': 'United States', 'type': 'UN observance', 'date': '10/10/2020', 'date_year': '2020', 'date_month': '10', 'date_day': '10', 'week_day': 'Saturday'}, {'name': 'Shmini Atzeret', 'name_local': '', 'language': '', 'description': '', 'country': 'US', 'location': 'United States', 'type': 'Hebrew', 'date': '10/10/2020', 'date_year': '2020', 'date_month': '10', 'date_day': '10', 'week_day': 'Saturday'}, {'name': 'International Day of the Girl Child', 'name_local': '', 'language': '', 'description': '', 'country': 'US', 'location': 'United States', 'type': 'UN observance', 'date': '10/11/2020', 'date_year': '2020', 'date_month': '10', 'date_day': '11', 'week_day': 'Sunday'}, {'name': 'Simchat Torah', 'name_local': '', 'language': '', 'description': '', 'country': 'US', 'location': 'United States', 'type': 'Hebrew', 'date': '10/11/2020', 'date_year': '2020', 'date_month': '10', 'date_day': '11', 'week_day': 'Sunday'}, {'name': \"Indigenous People's Day\", 'name_local': '', 'language': '', 'description': '', 'country': 'US', 'location': 'United States - Alaska, California, Maine, Minnesota, New Mexico, Vermont, Washington, Wisconsin', 'type': 'Local observance', 'date': '10/12/2020', 'date_year': '2020', 'date_month': '10', 'date_day': '12', 'week_day': 'Monday'}, {'name': 'Columbus Day', 'name_local': '', 'language': '', 'description': '', 'country': 'US', 'location': 'United States - Florida', 'type': 'Local observance', 'date': '10/12/2020', 'date_year': '2020', 'date_month': '10', 'date_day': '12', 'week_day': 'Monday'}, {'name': \"Native Americans' Day\", 'name_local': '', 'language': '', 'description': '', 'country': 'US', 'location': 'United States - South Dakota', 'type': 'Local observance', 'date': '10/12/2020', 'date_year': '2020', 'date_month': '10', 'date_day': '12', 'week_day': 'Monday'}, {'name': 'Columbus Day', 'name_local': '', 'language': '', 'description': '', 'country': 'US', 'location': 'United States - Alabama, Arizona, Colorado, Connecticut, District of Columbia, Georgia, Idaho, Illinois, Indiana, Iowa, Kansas, Kentucky, Louisiana, Maine, Maryland, Massachusetts, Mississippi, Missouri, Montana, Nebraska, New Hampshire, New Jersey, New York, North Carolina, Ohio, Oklahoma, Pennsylvania, Rhode Island, South Carolina, Tennessee, Utah, Virginia, West Virginia, Wisconsin', 'type': 'National', 'date': '10/12/2020', 'date_year': '2020', 'date_month': '10', 'date_day': '12', 'week_day': 'Monday'}, {'name': 'Navy Birthday', 'name_local': '', 'language': '', 'description': '', 'country': 'US', 'location': 'United States', 'type': 'Observance', 'date': '10/13/2020', 'date_year': '2020', 'date_month': '10', 'date_day': '13', 'week_day': 'Tuesday'}, {'name': 'International Day for Natural Disaster Reduction', 'name_local': '', 'language': '', 'description': '', 'country': 'US', 'location': 'United States', 'type': 'UN observance', 'date': '10/14/2020', 'date_year': '2020', 'date_month': '10', 'date_day': '14', 'week_day': 'Wednesday'}, {'name': 'White Cane Safety Day', 'name_local': '', 'language': '', 'description': '', 'country': 'US', 'location': 'United States', 'type': 'Observance', 'date': '10/15/2020', 'date_year': '2020', 'date_month': '10', 'date_day': '15', 'week_day': 'Thursday'}, {'name': 'International Day of Rural Women', 'name_local': '', 'language': '', 'description': '', 'country': 'US', 'location': 'United States', 'type': 'UN observance', 'date': '10/15/2020', 'date_year': '2020', 'date_month': '10', 'date_day': '15', 'week_day': 'Thursday'}, {'name': \"Boss's Day\", 'name_local': '', 'language': '', 'description': '', 'country': 'US', 'location': 'United States', 'type': 'Observance', 'date': '10/16/2020', 'date_year': '2020', 'date_month': '10', 'date_day': '16', 'week_day': 'Friday'}, {'name': 'World Food Day', 'name_local': '', 'language': '', 'description': '', 'country': 'US', 'location': 'United States', 'type': 'UN observance', 'date': '10/16/2020', 'date_year': '2020', 'date_month': '10', 'date_day': '16', 'week_day': 'Friday'}, {'name': 'Navratri', 'name_local': '', 'language': '', 'description': '', 'country': 'US', 'location': 'United States', 'type': 'Hindu', 'date': '10/17/2020', 'date_year': '2020', 'date_month': '10', 'date_day': '17', 'week_day': 'Saturday'}, {'name': 'Sweetest Day', 'name_local': '', 'language': '', 'description': '', 'country': 'US', 'location': 'United States - Illinois, Indiana, Kentucky, Michigan, Missouri, North Dakota, Ohio, South Dakota, Wisconsin, West Virginia, Washington, New York, Pennsylvania', 'type': 'Observance', 'date': '10/17/2020', 'date_year': '2020', 'date_month': '10', 'date_day': '17', 'week_day': 'Saturday'}, {'name': 'International Day for the Eradication of Poverty', 'name_local': '', 'language': '', 'description': '', 'country': 'US', 'location': 'United States', 'type': 'UN observance', 'date': '10/17/2020', 'date_year': '2020', 'date_month': '10', 'date_day': '17', 'week_day': 'Saturday'}, {'name': 'Alaska Day', 'name_local': '', 'language': '', 'description': '', 'country': 'US', 'location': 'United States - Alaska', 'type': 'Local holiday', 'date': '10/18/2020', 'date_year': '2020', 'date_month': '10', 'date_day': '18', 'week_day': 'Sunday'}, {'name': 'Alaska Day', 'name_local': '', 'language': '', 'description': '', 'country': 'US', 'location': 'United States - Alaska', 'type': 'Local holiday', 'date': '10/19/2020', 'date_year': '2020', 'date_month': '10', 'date_day': '19', 'week_day': 'Monday'}, {'name': 'World Statistics Day', 'name_local': '', 'language': '', 'description': '', 'country': 'US', 'location': 'United States', 'type': 'UN observance', 'date': '10/20/2020', 'date_year': '2020', 'date_month': '10', 'date_day': '20', 'week_day': 'Tuesday'}, {'name': 'World Development Information Day', 'name_local': '', 'language': '', 'description': '', 'country': 'US', 'location': 'United States', 'type': 'UN observance', 'date': '10/24/2020', 'date_year': '2020', 'date_month': '10', 'date_day': '24', 'week_day': 'Saturday'}, {'name': 'United Nations Day', 'name_local': '', 'language': '', 'description': '', 'country': 'US', 'location': 'United States', 'type': 'UN observance', 'date': '10/24/2020', 'date_year': '2020', 'date_month': '10', 'date_day': '24', 'week_day': 'Saturday'}, {'name': 'Dussehra', 'name_local': '', 'language': '', 'description': '', 'country': 'US', 'location': 'United States', 'type': 'Hindu', 'date': '10/25/2020', 'date_year': '2020', 'date_month': '10', 'date_day': '25', 'week_day': 'Sunday'}, {'name': 'World Day for Audiovisual Heritage', 'name_local': '', 'language': '', 'description': '', 'country': 'US', 'location': 'United States', 'type': 'UN observance', 'date': '10/27/2020', 'date_year': '2020', 'date_month': '10', 'date_day': '27', 'week_day': 'Tuesday'}, {'name': 'World Stroke Day', 'name_local': '', 'language': '', 'description': '', 'country': 'US', 'location': 'United States', 'type': 'Worldwide', 'date': '10/29/2020', 'date_year': '2020', 'date_month': '10', 'date_day': '29', 'week_day': 'Thursday'}, {'name': \"The Prophet's Birthday\", 'name_local': '', 'language': '', 'description': '', 'country': 'US', 'location': 'United States', 'type': 'Muslim', 'date': '10/29/2020', 'date_year': '2020', 'date_month': '10', 'date_day': '29', 'week_day': 'Thursday'}, {'name': 'Nevada Day', 'name_local': '', 'language': '', 'description': '', 'country': 'US', 'location': 'United States - Nevada', 'type': 'Local holiday', 'date': '10/30/2020', 'date_year': '2020', 'date_month': '10', 'date_day': '30', 'week_day': 'Friday'}, {'name': 'Halloween', 'name_local': '', 'language': '', 'description': '', 'country': 'US', 'location': 'United States', 'type': 'Observance', 'date': '10/31/2020', 'date_year': '2020', 'date_month': '10', 'date_day': '31', 'week_day': 'Saturday'}, {'name': 'World Cities Day', 'name_local': '', 'language': '', 'description': '', 'country': 'US', 'location': 'United States', 'type': 'UN observance', 'date': '10/31/2020', 'date_year': '2020', 'date_month': '10', 'date_day': '31', 'week_day': 'Saturday'}, {'name': 'Daylight Saving Time ends', 'name_local': '', 'language': '', 'description': '', 'country': 'US', 'location': 'United States', 'type': 'Clock change', 'date': '11/01/2020', 'date_year': '2020', 'date_month': '11', 'date_day': '01', 'week_day': 'Sunday'}, {'name': 'New York City Marathon', 'name_local': '', 'language': '', 'description': '', 'country': 'US', 'location': 'United States', 'type': 'Sporting', 'date': '11/01/2020', 'date_year': '2020', 'date_month': '11', 'date_day': '01', 'week_day': 'Sunday'}, {'name': \"All Saints' Day\", 'name_local': '', 'language': '', 'description': '', 'country': 'US', 'location': 'United States', 'type': 'Christian', 'date': '11/01/2020', 'date_year': '2020', 'date_month': '11', 'date_day': '01', 'week_day': 'Sunday'}, {'name': 'World Vegan Day', 'name_local': '', 'language': '', 'description': '', 'country': 'US', 'location': 'United States', 'type': 'Worldwide', 'date': '11/01/2020', 'date_year': '2020', 'date_month': '11', 'date_day': '01', 'week_day': 'Sunday'}, {'name': 'International Day to End Impunity for Crimes against Journalists', 'name_local': '', 'language': '', 'description': '', 'country': 'US', 'location': 'United States', 'type': 'UN observance', 'date': '11/02/2020', 'date_year': '2020', 'date_month': '11', 'date_day': '02', 'week_day': 'Monday'}, {'name': \"All Souls' Day\", 'name_local': '', 'language': '', 'description': '', 'country': 'US', 'location': 'United States', 'type': 'Christian', 'date': '11/02/2020', 'date_year': '2020', 'date_month': '11', 'date_day': '02', 'week_day': 'Monday'}, {'name': 'Election Day', 'name_local': '', 'language': '', 'description': '', 'country': 'US', 'location': 'United States', 'type': 'Observance', 'date': '11/03/2020', 'date_year': '2020', 'date_month': '11', 'date_day': '03', 'week_day': 'Tuesday'}, {'name': 'Election Day', 'name_local': '', 'language': '', 'description': '', 'country': 'US', 'location': 'United States - Hawaii, Delaware, Illinois, Indiana, Michigan, Montana, West Virginia, Maryland, New Jersey, New York, Rhode Island', 'type': 'Local holiday', 'date': '11/03/2020', 'date_year': '2020', 'date_month': '11', 'date_day': '03', 'week_day': 'Tuesday'}, {'name': 'Return Day', 'name_local': '', 'language': '', 'description': '', 'country': 'US', 'location': 'United States - Delaware', 'type': 'Local holiday', 'date': '11/05/2020', 'date_year': '2020', 'date_month': '11', 'date_day': '05', 'week_day': 'Thursday'}, {'name': 'International Day for Preventing the Exploitation of the Environment in War and Armed Conflict', 'name_local': '', 'language': '', 'description': '', 'country': 'US', 'location': 'United States', 'type': 'UN observance', 'date': '11/06/2020', 'date_year': '2020', 'date_month': '11', 'date_day': '06', 'week_day': 'Friday'}, {'name': 'World Science Day for Peace and Development', 'name_local': '', 'language': '', 'description': '', 'country': 'US', 'location': 'United States', 'type': 'UN observance', 'date': '11/10/2020', 'date_year': '2020', 'date_month': '11', 'date_day': '10', 'week_day': 'Tuesday'}, {'name': 'Marine Corps Birthday', 'name_local': '', 'language': '', 'description': '', 'country': 'US', 'location': 'United States', 'type': 'Observance', 'date': '11/10/2020', 'date_year': '2020', 'date_month': '11', 'date_day': '10', 'week_day': 'Tuesday'}, {'name': 'Veterans Day', 'name_local': '', 'language': '', 'description': '', 'country': 'US', 'location': 'United States', 'type': 'National', 'date': '11/11/2020', 'date_year': '2020', 'date_month': '11', 'date_day': '11', 'week_day': 'Wednesday'}, {'name': 'World Pneumonia Day', 'name_local': '', 'language': '', 'description': '', 'country': 'US', 'location': 'United States', 'type': 'Worldwide', 'date': '11/12/2020', 'date_year': '2020', 'date_month': '11', 'date_day': '12', 'week_day': 'Thursday'}, {'name': 'Friday the 13th', 'name_local': '', 'language': '', 'description': '', 'country': 'US', 'location': 'United States', 'type': 'Worldwide', 'date': '11/13/2020', 'date_year': '2020', 'date_month': '11', 'date_day': '13', 'week_day': 'Friday'}, {'name': 'World Diabetes Day', 'name_local': '', 'language': '', 'description': '', 'country': 'US', 'location': 'United States', 'type': 'UN observance', 'date': '11/14/2020', 'date_year': '2020', 'date_month': '11', 'date_day': '14', 'week_day': 'Saturday'}, {'name': 'Diwali/Deepavali', 'name_local': '', 'language': '', 'description': '', 'country': 'US', 'location': 'United States', 'type': 'Observance,Hindu', 'date': '11/14/2020', 'date_year': '2020', 'date_month': '11', 'date_day': '14', 'week_day': 'Saturday'}, {'name': 'World Day of Remembrance for Road Traffic Victims', 'name_local': '', 'language': '', 'description': '', 'country': 'US', 'location': 'United States', 'type': 'UN observance', 'date': '11/15/2020', 'date_year': '2020', 'date_month': '11', 'date_day': '15', 'week_day': 'Sunday'}, {'name': 'International Day for Tolerance', 'name_local': '', 'language': '', 'description': '', 'country': 'US', 'location': 'United States', 'type': 'UN observance', 'date': '11/16/2020', 'date_year': '2020', 'date_month': '11', 'date_day': '16', 'week_day': 'Monday'}, {'name': 'World Prematurity Day', 'name_local': '', 'language': '', 'description': '', 'country': 'US', 'location': 'United States', 'type': 'Worldwide', 'date': '11/17/2020', 'date_year': '2020', 'date_month': '11', 'date_day': '17', 'week_day': 'Tuesday'}, {'name': 'World Toilet Day', 'name_local': '', 'language': '', 'description': '', 'country': 'US', 'location': 'United States', 'type': 'UN observance', 'date': '11/19/2020', 'date_year': '2020', 'date_month': '11', 'date_day': '19', 'week_day': 'Thursday'}, {'name': 'World Philosophy Day', 'name_local': '', 'language': '', 'description': '', 'country': 'US', 'location': 'United States', 'type': 'UN observance', 'date': '11/19/2020', 'date_year': '2020', 'date_month': '11', 'date_day': '19', 'week_day': 'Thursday'}, {'name': \"International Men's Day\", 'name_local': '', 'language': '', 'description': '', 'country': 'US', 'location': 'United States', 'type': 'Worldwide', 'date': '11/19/2020', 'date_year': '2020', 'date_month': '11', 'date_day': '19', 'week_day': 'Thursday'}, {'name': \"Universal Children's Day\", 'name_local': '', 'language': '', 'description': '', 'country': 'US', 'location': 'United States', 'type': 'UN observance', 'date': '11/20/2020', 'date_year': '2020', 'date_month': '11', 'date_day': '20', 'week_day': 'Friday'}, {'name': 'Africa Industrialization Day', 'name_local': '', 'language': '', 'description': '', 'country': 'US', 'location': 'United States', 'type': 'UN observance', 'date': '11/20/2020', 'date_year': '2020', 'date_month': '11', 'date_day': '20', 'week_day': 'Friday'}, {'name': 'World Television Day', 'name_local': '', 'language': '', 'description': '', 'country': 'US', 'location': 'United States', 'type': 'UN observance', 'date': '11/21/2020', 'date_year': '2020', 'date_month': '11', 'date_day': '21', 'week_day': 'Saturday'}, {'name': 'International Day for the Elimination of Violence against Women', 'name_local': '', 'language': '', 'description': '', 'country': 'US', 'location': 'United States', 'type': 'UN observance', 'date': '11/25/2020', 'date_year': '2020', 'date_month': '11', 'date_day': '25', 'week_day': 'Wednesday'}, {'name': 'Thanksgiving Day', 'name_local': '', 'language': '', 'description': '', 'country': 'US', 'location': 'United States', 'type': 'National', 'date': '11/26/2020', 'date_year': '2020', 'date_month': '11', 'date_day': '26', 'week_day': 'Thursday'}, {'name': \"Presidents' Day\", 'name_local': '', 'language': '', 'description': '', 'country': 'US', 'location': 'United States - New Mexico', 'type': 'Local holiday', 'date': '11/27/2020', 'date_year': '2020', 'date_month': '11', 'date_day': '27', 'week_day': 'Friday'}, {'name': 'Acadian Day', 'name_local': '', 'language': '', 'description': '', 'country': 'US', 'location': 'United States - Louisiana', 'type': 'Local holiday', 'date': '11/27/2020', 'date_year': '2020', 'date_month': '11', 'date_day': '27', 'week_day': 'Friday'}, {'name': 'Day After Thanksgiving', 'name_local': '', 'language': '', 'description': '', 'country': 'US', 'location': 'United States - West Virginia', 'type': 'Local holiday', 'date': '11/27/2020', 'date_year': '2020', 'date_month': '11', 'date_day': '27', 'week_day': 'Friday'}, {'name': 'Day After Thanksgiving', 'name_local': '', 'language': '', 'description': '', 'country': 'US', 'location': 'United States - California, Delaware, Florida, Illinois, Iowa, Kansas, Kentucky, Maine, Michigan, Minnesota, North Carolina, Nebraska, New Hampshire, Oklahoma, Pennsylvania, South Carolina, Tennessee, Texas, Virginia', 'type': 'Local holiday', 'date': '11/27/2020', 'date_year': '2020', 'date_month': '11', 'date_day': '27', 'week_day': 'Friday'}, {'name': 'State Holiday', 'name_local': '', 'language': '', 'description': '', 'country': 'US', 'location': 'United States - Georgia', 'type': 'Local holiday', 'date': '11/27/2020', 'date_year': '2020', 'date_month': '11', 'date_day': '27', 'week_day': 'Friday'}, {'name': \"Lincoln's Birthday/Lincoln's Day\", 'name_local': '', 'language': '', 'description': '', 'country': 'US', 'location': 'United States - Indiana', 'type': 'Local holiday', 'date': '11/27/2020', 'date_year': '2020', 'date_month': '11', 'date_day': '27', 'week_day': 'Friday'}, {'name': 'Black Friday', 'name_local': '', 'language': '', 'description': '', 'country': 'US', 'location': 'United States', 'type': 'Observance', 'date': '11/27/2020', 'date_year': '2020', 'date_month': '11', 'date_day': '27', 'week_day': 'Friday'}, {'name': 'Family Day', 'name_local': '', 'language': '', 'description': '', 'country': 'US', 'location': 'United States - Nevada', 'type': 'Local holiday', 'date': '11/27/2020', 'date_year': '2020', 'date_month': '11', 'date_day': '27', 'week_day': 'Friday'}, {'name': 'American Indian Heritage Day', 'name_local': '', 'language': '', 'description': '', 'country': 'US', 'location': 'United States - Maryland', 'type': 'Local holiday', 'date': '11/27/2020', 'date_year': '2020', 'date_month': '11', 'date_day': '27', 'week_day': 'Friday'}, {'name': 'First Sunday of Advent', 'name_local': '', 'language': '', 'description': '', 'country': 'US', 'location': 'United States', 'type': 'Christian', 'date': '11/29/2020', 'date_year': '2020', 'date_month': '11', 'date_day': '29', 'week_day': 'Sunday'}, {'name': 'International Day of Solidarity with the Palestinian People', 'name_local': '', 'language': '', 'description': '', 'country': 'US', 'location': 'United States', 'type': 'UN observance', 'date': '11/29/2020', 'date_year': '2020', 'date_month': '11', 'date_day': '29', 'week_day': 'Sunday'}, {'name': 'Cyber Monday', 'name_local': '', 'language': '', 'description': '', 'country': 'US', 'location': 'United States', 'type': 'Observance', 'date': '11/30/2020', 'date_year': '2020', 'date_month': '11', 'date_day': '30', 'week_day': 'Monday'}, {'name': 'World AIDS Day', 'name_local': '', 'language': '', 'description': '', 'country': 'US', 'location': 'United States', 'type': 'UN observance', 'date': '12/01/2020', 'date_year': '2020', 'date_month': '12', 'date_day': '01', 'week_day': 'Tuesday'}, {'name': 'Rosa Parks Day', 'name_local': '', 'language': '', 'description': '', 'country': 'US', 'location': 'United States - Oregon', 'type': 'Local observance', 'date': '12/01/2020', 'date_year': '2020', 'date_month': '12', 'date_day': '01', 'week_day': 'Tuesday'}, {'name': 'Rosa Parks Day', 'name_local': '', 'language': '', 'description': '', 'country': 'US', 'location': 'United States - Ohio', 'type': 'Local observance', 'date': '12/01/2020', 'date_year': '2020', 'date_month': '12', 'date_day': '01', 'week_day': 'Tuesday'}, {'name': 'International Day for the Abolition of Slavery', 'name_local': '', 'language': '', 'description': '', 'country': 'US', 'location': 'United States', 'type': 'UN observance', 'date': '12/02/2020', 'date_year': '2020', 'date_month': '12', 'date_day': '02', 'week_day': 'Wednesday'}, {'name': 'International Day of Persons with Disabilities', 'name_local': '', 'language': '', 'description': '', 'country': 'US', 'location': 'United States', 'type': 'UN observance', 'date': '12/03/2020', 'date_year': '2020', 'date_month': '12', 'date_day': '03', 'week_day': 'Thursday'}, {'name': 'International Volunteer Day for Economic and Social Development', 'name_local': '', 'language': '', 'description': '', 'country': 'US', 'location': 'United States', 'type': 'UN observance', 'date': '12/05/2020', 'date_year': '2020', 'date_month': '12', 'date_day': '05', 'week_day': 'Saturday'}, {'name': 'World Soil Day', 'name_local': '', 'language': '', 'description': '', 'country': 'US', 'location': 'United States', 'type': 'UN observance', 'date': '12/05/2020', 'date_year': '2020', 'date_month': '12', 'date_day': '05', 'week_day': 'Saturday'}, {'name': 'St Nicholas Day', 'name_local': '', 'language': '', 'description': '', 'country': 'US', 'location': 'United States', 'type': 'Observance', 'date': '12/06/2020', 'date_year': '2020', 'date_month': '12', 'date_day': '06', 'week_day': 'Sunday'}, {'name': 'Pearl Harbor Remembrance Day', 'name_local': '', 'language': '', 'description': '', 'country': 'US', 'location': 'United States', 'type': 'Observance', 'date': '12/07/2020', 'date_year': '2020', 'date_month': '12', 'date_day': '07', 'week_day': 'Monday'}, {'name': 'International Civil Aviation Day', 'name_local': '', 'language': '', 'description': '', 'country': 'US', 'location': 'United States', 'type': 'UN observance', 'date': '12/07/2020', 'date_year': '2020', 'date_month': '12', 'date_day': '07', 'week_day': 'Monday'}, {'name': 'Feast of the Immaculate Conception', 'name_local': '', 'language': '', 'description': '', 'country': 'US', 'location': 'United States', 'type': 'Christian', 'date': '12/08/2020', 'date_year': '2020', 'date_month': '12', 'date_day': '08', 'week_day': 'Tuesday'}, {'name': 'World Genocide Commemoration Day', 'name_local': '', 'language': '', 'description': '', 'country': 'US', 'location': 'United States', 'type': 'UN observance', 'date': '12/09/2020', 'date_year': '2020', 'date_month': '12', 'date_day': '09', 'week_day': 'Wednesday'}, {'name': 'International Anti-Corruption Day', 'name_local': '', 'language': '', 'description': '', 'country': 'US', 'location': 'United States', 'type': 'UN observance', 'date': '12/09/2020', 'date_year': '2020', 'date_month': '12', 'date_day': '09', 'week_day': 'Wednesday'}, {'name': 'Human Rights Day', 'name_local': '', 'language': '', 'description': '', 'country': 'US', 'location': 'United States', 'type': 'UN observance', 'date': '12/10/2020', 'date_year': '2020', 'date_month': '12', 'date_day': '10', 'week_day': 'Thursday'}, {'name': 'Chanukah/Hanukkah (first day)', 'name_local': '', 'language': '', 'description': '', 'country': 'US', 'location': 'United States', 'type': 'Hebrew', 'date': '12/11/2020', 'date_year': '2020', 'date_month': '12', 'date_day': '11', 'week_day': 'Friday'}, {'name': 'International Mountain Day', 'name_local': '', 'language': '', 'description': '', 'country': 'US', 'location': 'United States', 'type': 'UN observance', 'date': '12/11/2020', 'date_year': '2020', 'date_month': '12', 'date_day': '11', 'week_day': 'Friday'}, {'name': 'Feast of Our Lady of Guadalupe', 'name_local': '', 'language': '', 'description': '', 'country': 'US', 'location': 'United States', 'type': 'Christian', 'date': '12/12/2020', 'date_year': '2020', 'date_month': '12', 'date_day': '12', 'week_day': 'Saturday'}, {'name': 'National Guard Birthday', 'name_local': '', 'language': '', 'description': '', 'country': 'US', 'location': 'United States', 'type': 'Observance', 'date': '12/13/2020', 'date_year': '2020', 'date_month': '12', 'date_day': '13', 'week_day': 'Sunday'}, {'name': 'Bill of Rights Day', 'name_local': '', 'language': '', 'description': '', 'country': 'US', 'location': 'United States', 'type': 'Observance', 'date': '12/15/2020', 'date_year': '2020', 'date_month': '12', 'date_day': '15', 'week_day': 'Tuesday'}, {'name': 'Wright Brothers Day', 'name_local': '', 'language': '', 'description': '', 'country': 'US', 'location': 'United States', 'type': 'Observance', 'date': '12/17/2020', 'date_year': '2020', 'date_month': '12', 'date_day': '17', 'week_day': 'Thursday'}, {'name': 'Pan American Aviation Day', 'name_local': '', 'language': '', 'description': '', 'country': 'US', 'location': 'United States', 'type': 'Observance', 'date': '12/17/2020', 'date_year': '2020', 'date_month': '12', 'date_day': '17', 'week_day': 'Thursday'}, {'name': 'Last Day of Chanukah', 'name_local': '', 'language': '', 'description': '', 'country': 'US', 'location': 'United States', 'type': 'Hebrew', 'date': '12/18/2020', 'date_year': '2020', 'date_month': '12', 'date_day': '18', 'week_day': 'Friday'}, {'name': 'International Migrants Day', 'name_local': '', 'language': '', 'description': '', 'country': 'US', 'location': 'United States', 'type': 'UN observance', 'date': '12/18/2020', 'date_year': '2020', 'date_month': '12', 'date_day': '18', 'week_day': 'Friday'}, {'name': 'Arabic Language Day', 'name_local': '', 'language': '', 'description': '', 'country': 'US', 'location': 'United States', 'type': 'UN observance', 'date': '12/18/2020', 'date_year': '2020', 'date_month': '12', 'date_day': '18', 'week_day': 'Friday'}, {'name': 'International Human Solidarity Day', 'name_local': '', 'language': '', 'description': '', 'country': 'US', 'location': 'United States', 'type': 'UN observance', 'date': '12/20/2020', 'date_year': '2020', 'date_month': '12', 'date_day': '20', 'week_day': 'Sunday'}, {'name': 'December Solstice', 'name_local': '', 'language': '', 'description': '', 'country': 'US', 'location': 'United States', 'type': 'Seasonal', 'date': '12/21/2020', 'date_year': '2020', 'date_month': '12', 'date_day': '21', 'week_day': 'Monday'}, {'name': 'Christmas Eve', 'name_local': '', 'language': '', 'description': '', 'country': 'US', 'location': 'United States', 'type': 'Observance', 'date': '12/24/2020', 'date_year': '2020', 'date_month': '12', 'date_day': '24', 'week_day': 'Thursday'}, {'name': 'Christmas Eve', 'name_local': '', 'language': '', 'description': '', 'country': 'US', 'location': 'United States - Michigan, Kansas, North Carolina, North Dakota, Oklahoma, South Carolina, Texas, Wisconsin, Virginia, Kentucky', 'type': 'Local holiday', 'date': '12/24/2020', 'date_year': '2020', 'date_month': '12', 'date_day': '24', 'week_day': 'Thursday'}, {'name': 'Christmas Day', 'name_local': '', 'language': '', 'description': '', 'country': 'US', 'location': 'United States', 'type': 'National', 'date': '12/25/2020', 'date_year': '2020', 'date_month': '12', 'date_day': '25', 'week_day': 'Friday'}, {'name': 'Day After Christmas Day', 'name_local': '', 'language': '', 'description': '', 'country': 'US', 'location': 'United States - Kansas, North Carolina, South Carolina', 'type': 'Local holiday', 'date': '12/26/2020', 'date_year': '2020', 'date_month': '12', 'date_day': '26', 'week_day': 'Saturday'}, {'name': 'Kwanzaa (first day)', 'name_local': '', 'language': '', 'description': '', 'country': 'US', 'location': 'United States', 'type': 'Observance', 'date': '12/26/2020', 'date_year': '2020', 'date_month': '12', 'date_day': '26', 'week_day': 'Saturday'}, {'name': 'Day After Christmas Day', 'name_local': '', 'language': '', 'description': '', 'country': 'US', 'location': 'United States - Texas', 'type': 'Local holiday', 'date': '12/26/2020', 'date_year': '2020', 'date_month': '12', 'date_day': '26', 'week_day': 'Saturday'}, {'name': \"New Year's Eve\", 'name_local': '', 'language': '', 'description': '', 'country': 'US', 'location': 'United States', 'type': 'Observance', 'date': '12/31/2020', 'date_year': '2020', 'date_month': '12', 'date_day': '31', 'week_day': 'Thursday'}, {'name': \"New Year's Eve\", 'name_local': '', 'language': '', 'description': '', 'country': 'US', 'location': 'United States - Wisconsin, Louisiana, Michigan', 'type': 'Local holiday', 'date': '12/31/2020', 'date_year': '2020', 'date_month': '12', 'date_day': '31', 'week_day': 'Thursday'}]\n"
     ]
    }
   ],
   "source": [
    "print(data_json)"
   ]
  },
  {
   "cell_type": "markdown",
   "metadata": {},
   "source": [
    "## Convert from JSON to SQLite database (with reduced number of columns from source to destination)"
   ]
  },
  {
   "cell_type": "code",
   "execution_count": 14,
   "metadata": {},
   "outputs": [
    {
     "name": "stdout",
     "output_type": "stream",
     "text": [
      "New Year's Day data inserted Succefully\n",
      "World Braille Day data inserted Succefully\n",
      "Epiphany data inserted Succefully\n",
      "International Programmers' Day data inserted Succefully\n",
      "Orthodox Christmas Day data inserted Succefully\n",
      "Stephen Foster Memorial Day data inserted Succefully\n",
      "Orthodox New Year data inserted Succefully\n",
      "Lee-Jackson Day data inserted Succefully\n",
      "Confederate Heroes' Day data inserted Succefully\n",
      "World Religion Day data inserted Succefully\n",
      "Robert E. Lee's Birthday data inserted Succefully\n",
      "Martin Luther King Jr. Day data inserted Succefully\n",
      "Civil Rights Day data inserted Succefully\n",
      "Robert E. Lee's Birthday data inserted Succefully\n",
      "Civil Rights Day data inserted Succefully\n",
      "Robert E. Lee's Birthday data inserted Succefully\n",
      "Robert E. Lee's Birthday data inserted Succefully\n",
      "Idaho Human Rights Day data inserted Succefully\n",
      "Chinese New Year data inserted Succefully\n",
      "World Leprosy Day data inserted Succefully\n",
      "International Customs Day data inserted Succefully\n",
      "International Day of Commemoration in Memory of the Victims of the Holocaust data inserted Succefully\n",
      "Kansas Day data inserted Succefully\n",
      "National Freedom Day data inserted Succefully\n",
      "Groundhog Day data inserted Succefully\n",
      "Super Bowl data inserted Succefully\n",
      "World Wetlands Day data inserted Succefully\n",
      "Rosa Parks Day data inserted Succefully\n",
      "World Cancer Day data inserted Succefully\n",
      "Rosa Parks Day data inserted Succefully\n",
      "International Day of Zero Tolerance for Female Genital Mutilation data inserted Succefully\n",
      "National Wear Red Day data inserted Succefully\n",
      "Tu Bishvat/Tu B'Shevat data inserted Succefully\n",
      "World Day of the Sick data inserted Succefully\n",
      "International Day of Women and Girls in Science data inserted Succefully\n",
      "Lincoln's Birthday data inserted Succefully\n",
      "Lincoln's Birthday data inserted Succefully\n",
      "World Radio Day data inserted Succefully\n",
      "Statehood Day data inserted Succefully\n",
      "Valentine's Day data inserted Succefully\n",
      "Susan B. Anthony's Birthday data inserted Succefully\n",
      "Susan B. Anthony's Birthday data inserted Succefully\n",
      "Susan B. Anthony's Birthday data inserted Succefully\n",
      "Susan B. Anthony's Birthday data inserted Succefully\n",
      "Elizabeth Peratrovich Day data inserted Succefully\n",
      "Presidents' Day data inserted Succefully\n",
      "Daisy Gatson Bates Day data inserted Succefully\n",
      "World Day of Social Justice data inserted Succefully\n",
      "Maha Shivaratri data inserted Succefully\n",
      "International Mother Language Day data inserted Succefully\n",
      "Shrove Tuesday/Mardi Gras data inserted Succefully\n",
      "Shrove Tuesday/Mardi Gras data inserted Succefully\n",
      "Shrove Tuesday/Mardi Gras data inserted Succefully\n",
      "Shrove Tuesday/Mardi Gras data inserted Succefully\n",
      "Ash Wednesday data inserted Succefully\n",
      "Linus Pauling Day data inserted Succefully\n",
      "Leap Day data inserted Succefully\n",
      "St. David's Day data inserted Succefully\n",
      "Zero Discrimination Day data inserted Succefully\n",
      "Self-Injury Awareness Day data inserted Succefully\n",
      "Casimir Pulaski Day data inserted Succefully\n",
      "Read Across America Day data inserted Succefully\n",
      "Texas Independence Day data inserted Succefully\n",
      "World Wildlife Day data inserted Succefully\n",
      "Town Meeting Day data inserted Succefully\n",
      "Super Tuesday data inserted Succefully\n",
      "Employee Appreciation Day data inserted Succefully\n",
      "Daylight Saving Time starts data inserted Succefully\n",
      "International Women's Day data inserted Succefully\n",
      "Holi data inserted Succefully\n",
      "Purim data inserted Succefully\n",
      "World Kidney Day data inserted Succefully\n",
      "Friday the 13th data inserted Succefully\n",
      "Evacuation Day data inserted Succefully\n",
      "St. Patrick's Day data inserted Succefully\n",
      "March Equinox data inserted Succefully\n",
      "International Day of Happiness data inserted Succefully\n",
      "World Down Syndrome Day data inserted Succefully\n",
      "International Day of Forests data inserted Succefully\n",
      "International Day for the Elimination of Racial Discrimination data inserted Succefully\n",
      "World Poetry Day data inserted Succefully\n",
      "International Day of Nowruz data inserted Succefully\n",
      "Isra and Mi'raj data inserted Succefully\n",
      "World Water Day data inserted Succefully\n",
      "World Meteorological Day data inserted Succefully\n",
      "World Tuberculosis Day data inserted Succefully\n",
      "International Day for the Right to the Truth concerning Gross Human Rights Violations and for the Dignity of Victims data inserted Succefully\n",
      "International Day of Solidarity with Detained and Missing Staff Members data inserted Succefully\n",
      "Maryland Day data inserted Succefully\n",
      "International Day of Remembrance of Slavery Victims and the Transatlantic Slave Trade data inserted Succefully\n",
      "Prince Jonah Kuhio Kalanianaole Day data inserted Succefully\n",
      "Earth Hour data inserted Succefully\n",
      "National Vietnam War Veterans Day data inserted Succefully\n",
      "Seward's Day data inserted Succefully\n",
      "César Chávez Day data inserted Succefully\n",
      "César Chávez Day data inserted Succefully\n",
      "César Chávez Day data inserted Succefully\n",
      "César Chávez Day data inserted Succefully\n",
      "April Fool's Day data inserted Succefully\n",
      "Pascua Florida Day data inserted Succefully\n",
      "World Autism Awareness Day data inserted Succefully\n",
      "United Nations' Mine Awareness Day data inserted Succefully\n",
      "Palm Sunday data inserted Succefully\n",
      "National Tartan Day data inserted Succefully\n",
      "International Day of Sport for Development and Peace data inserted Succefully\n",
      "Day of Remembrance of the Victims of the Rwanda Genocide data inserted Succefully\n",
      "United Nations' World Health Day data inserted Succefully\n",
      "Passover (first day) data inserted Succefully\n",
      "Maundy Thursday data inserted Succefully\n",
      "Good Friday data inserted Succefully\n",
      "Holy Saturday data inserted Succefully\n",
      "Easter Sunday data inserted Succefully\n",
      "International Day of Human Space Flight data inserted Succefully\n",
      "Easter Monday data inserted Succefully\n",
      "Thomas Jefferson's Birthday data inserted Succefully\n",
      "Father Damien Day data inserted Succefully\n",
      "Tax Day data inserted Succefully\n",
      "Last Day of Passover data inserted Succefully\n",
      "Emancipation Day data inserted Succefully\n",
      "Orthodox Good Friday data inserted Succefully\n",
      "Orthodox Holy Saturday data inserted Succefully\n",
      "International Day for Monuments and Sites data inserted Succefully\n",
      "Orthodox Easter data inserted Succefully\n",
      "Boston Marathon data inserted Succefully\n",
      "Chinese Language Day data inserted Succefully\n",
      "Orthodox Easter Monday data inserted Succefully\n",
      "Patriot's Day data inserted Succefully\n",
      "Yom HaShoah data inserted Succefully\n",
      "National Library Workers' Day data inserted Succefully\n",
      "San Jacinto Day data inserted Succefully\n",
      "Oklahoma Day data inserted Succefully\n",
      "Earth Day data inserted Succefully\n",
      "Administrative Professionals Day data inserted Succefully\n",
      "Take our Daughters and Sons to Work Day data inserted Succefully\n",
      "World Book and Copyright Day data inserted Succefully\n",
      "English Language Day data inserted Succefully\n",
      "Ramadan Starts data inserted Succefully\n",
      "Arbor Day data inserted Succefully\n",
      "World Malaria Day data inserted Succefully\n",
      "World Intellectual Property Day data inserted Succefully\n",
      "International Chernobyl Disaster Remembrance Day data inserted Succefully\n",
      "Confederate Heroes' Day data inserted Succefully\n",
      "Confederate Memorial Day data inserted Succefully\n",
      "Confederate Heroes' Day data inserted Succefully\n",
      "State Holiday data inserted Succefully\n",
      "Confederate Memorial Day data inserted Succefully\n",
      "World Day for Safety and Health at Work data inserted Succefully\n",
      "Day of Remembrance for all Victims of Chemical Warfare data inserted Succefully\n",
      "Yom Ha'atzmaut data inserted Succefully\n",
      "International Jazz Day data inserted Succefully\n",
      "Loyalty Day data inserted Succefully\n",
      "Kentucky Oaks data inserted Succefully\n",
      "Lei Day data inserted Succefully\n",
      "Law Day data inserted Succefully\n",
      "World Tuna Day data inserted Succefully\n",
      "National Explosive Ordnance Disposal (EOD) Day data inserted Succefully\n",
      "Kentucky Derby data inserted Succefully\n",
      "World Press Freedom Day data inserted Succefully\n",
      "Kent State Shootings Remembrance data inserted Succefully\n",
      "Rhode Island Independence Day data inserted Succefully\n",
      "Cinco de Mayo data inserted Succefully\n",
      "National Nurses Day data inserted Succefully\n",
      "National Day of Prayer data inserted Succefully\n",
      "Time of Remembrance and Reconciliation for Those Who Lost Their Lives during the Second World War data inserted Succefully\n",
      "Truman Day data inserted Succefully\n",
      "Victory in Europe Day data inserted Succefully\n",
      "World Ovarian Cancer Day data inserted Succefully\n",
      "Military Spouse Appreciation Day data inserted Succefully\n",
      "World Migratory Bird Day data inserted Succefully\n",
      "Confederate Memorial Day data inserted Succefully\n",
      "Confederate Memorial Day data inserted Succefully\n",
      "Mother's Day data inserted Succefully\n",
      "Confederate Memorial Day data inserted Succefully\n",
      "Primary Election Day data inserted Succefully\n",
      "Lag BaOmer data inserted Succefully\n",
      "International Nurses Day data inserted Succefully\n",
      "Peace Officers Memorial Day data inserted Succefully\n",
      "International Day of Families data inserted Succefully\n",
      "National Defense Transportation Day data inserted Succefully\n",
      "Armed Forces Day data inserted Succefully\n",
      "Preakness Stakes data inserted Succefully\n",
      "World Information Society Day data inserted Succefully\n",
      "Lailat al-Qadr data inserted Succefully\n",
      "Emergency Medical Services for Children Day data inserted Succefully\n",
      "World Autoimmune / Autoinflammatory Arthritis Day data inserted Succefully\n",
      "Ascension Day data inserted Succefully\n",
      "World Day for Cultural Diversity for Dialogue and Development data inserted Succefully\n",
      "Harvey Milk Day data inserted Succefully\n",
      "International Day for Biological Diversity data inserted Succefully\n",
      "National Maritime Day data inserted Succefully\n",
      "International Day to End Obstetric Fistula data inserted Succefully\n",
      "Eid al-Fitr data inserted Succefully\n",
      "African Liberation Day data inserted Succefully\n",
      "Memorial Day data inserted Succefully\n",
      "National Missing Children's Day data inserted Succefully\n",
      "Jefferson Davis' Birthday data inserted Succefully\n",
      "Shavuot data inserted Succefully\n",
      "International Day of United Nations Peacekeepers data inserted Succefully\n",
      "World No Tobacco Day data inserted Succefully\n",
      "Pentecost data inserted Succefully\n",
      "Whit Monday data inserted Succefully\n",
      "Jefferson Davis' Birthday data inserted Succefully\n",
      "Statehood Day data inserted Succefully\n",
      "Global Day of Parents data inserted Succefully\n",
      "Jefferson Davis' Birthday data inserted Succefully\n",
      "International Day of Innocent Children Victims of Aggression data inserted Succefully\n",
      "World Environment Day data inserted Succefully\n",
      "Belmont Stakes data inserted Succefully\n",
      "D-Day data inserted Succefully\n",
      "Trinity Sunday data inserted Succefully\n",
      "World Oceans Day data inserted Succefully\n",
      "Corpus Christi data inserted Succefully\n",
      "Kamehameha Day data inserted Succefully\n",
      "World Day Against Child Labour data inserted Succefully\n",
      "International Albinism Awareness Day data inserted Succefully\n",
      "World Blood Donor Day data inserted Succefully\n",
      "Bunker Hill Day data inserted Succefully\n",
      "Army Birthday data inserted Succefully\n",
      "Flag Day data inserted Succefully\n",
      "World Elder Abuse Awareness Day data inserted Succefully\n",
      "International Day of Family Remittances data inserted Succefully\n",
      "World Day to Combat Desertification and Drought data inserted Succefully\n",
      "Juneteenth data inserted Succefully\n",
      "International Day for the Elimination of Sexual Violence in Conflict data inserted Succefully\n",
      "Emancipation Day data inserted Succefully\n",
      "World Refugee Day data inserted Succefully\n",
      "West Virginia Day data inserted Succefully\n",
      "June Solstice data inserted Succefully\n",
      "American Eagle Day data inserted Succefully\n",
      "Father's Day data inserted Succefully\n",
      "International Day of Yoga data inserted Succefully\n",
      "International Widows' Day data inserted Succefully\n",
      "Public Service Day data inserted Succefully\n",
      "Day of the Seafarer data inserted Succefully\n",
      "International Day in Support of Victims of Torture data inserted Succefully\n",
      "International Day Against Drug Abuse and Illicit Trafficking data inserted Succefully\n",
      "International Asteroid Day data inserted Succefully\n",
      "Independence Day data inserted Succefully\n",
      "Independence Day data inserted Succefully\n",
      "International Day of Cooperatives data inserted Succefully\n",
      "World Population Day data inserted Succefully\n",
      "Nathan Bedford Forrest Day data inserted Succefully\n",
      "Bastille Day data inserted Succefully\n",
      "World Youth Skills Day data inserted Succefully\n",
      "Nelson Mandela Day data inserted Succefully\n",
      "Pioneer Day data inserted Succefully\n",
      "Parents' Day data inserted Succefully\n",
      "National Korean War Veterans Armistice Day data inserted Succefully\n",
      "World Hepatitis Day data inserted Succefully\n",
      "International Day of Friendship data inserted Succefully\n",
      "World Day against Trafficking in Persons data inserted Succefully\n",
      "Tisha B'Av data inserted Succefully\n",
      "Eid al-Adha data inserted Succefully\n",
      "Colorado Day data inserted Succefully\n",
      "Raksha Bandhan data inserted Succefully\n",
      "Coast Guard Birthday data inserted Succefully\n",
      "Purple Heart Day data inserted Succefully\n",
      "International Day of the World's Indigenous People data inserted Succefully\n",
      "Victory Day data inserted Succefully\n",
      "Janmashtami data inserted Succefully\n",
      "International Youth Day data inserted Succefully\n",
      "Assumption of Mary data inserted Succefully\n",
      "Bennington Battle Day data inserted Succefully\n",
      "Bennington Battle Day data inserted Succefully\n",
      "National Aviation Day data inserted Succefully\n",
      "World Humanitarian Day data inserted Succefully\n",
      "Muharram data inserted Succefully\n",
      "Hawaii Statehood Day data inserted Succefully\n",
      "Senior Citizens Day data inserted Succefully\n",
      "Ganesh Chaturthi data inserted Succefully\n",
      "International Day for the Remembrance of the Slave Trade and its Abolition data inserted Succefully\n",
      "Women's Equality Day data inserted Succefully\n",
      "Lyndon Baines Johnson Day data inserted Succefully\n",
      "International Day against Nuclear Tests data inserted Succefully\n",
      "International Day of the Victims of Enforced Disappearances data inserted Succefully\n",
      "International Overdose Awareness Day data inserted Succefully\n",
      "World Sexual Health Day data inserted Succefully\n",
      "International Day of Charity data inserted Succefully\n",
      "Labor Day data inserted Succefully\n",
      "International Literacy Day data inserted Succefully\n",
      "California Admission Day data inserted Succefully\n",
      "World Suicide Prevention Day data inserted Succefully\n",
      "Patriot Day data inserted Succefully\n",
      "Carl Garner Federal Lands Cleanup Day data inserted Succefully\n",
      "International Programmers' Day data inserted Succefully\n",
      "International Day for South-South Cooperation data inserted Succefully\n",
      "National Grandparents Day data inserted Succefully\n",
      "International Day of Democracy data inserted Succefully\n",
      "International Day for the Preservation of the Ozone Layer data inserted Succefully\n",
      "Constitution Day and Citizenship Day data inserted Succefully\n",
      "Air Force Birthday data inserted Succefully\n",
      "National POW/MIA Recognition Day data inserted Succefully\n",
      "Rosh Hashana data inserted Succefully\n",
      "National CleanUp Day data inserted Succefully\n",
      "Rosh Hashana data inserted Succefully\n",
      "International Day of Peace data inserted Succefully\n",
      "September Equinox data inserted Succefully\n",
      "Emancipation Day data inserted Succefully\n",
      "International Celebrate Bisexuality Day data inserted Succefully\n",
      "World Maritime Day data inserted Succefully\n",
      "Native American Day data inserted Succefully\n",
      "International Day for the Total Elimination of Nuclear Weapons data inserted Succefully\n",
      "Gold Star Mother's Day data inserted Succefully\n",
      "World Tourism Day data inserted Succefully\n",
      "Yom Kippur data inserted Succefully\n",
      "Yom Kippur data inserted Succefully\n",
      "World Rabies Day data inserted Succefully\n",
      "World Heart Day data inserted Succefully\n",
      "International Day of Older Persons data inserted Succefully\n",
      "World Vegetarian Day data inserted Succefully\n",
      "International Day of Non-Violence data inserted Succefully\n",
      "First Day of Sukkot data inserted Succefully\n",
      "Feast of St Francis of Assisi data inserted Succefully\n",
      "World Habitat Day data inserted Succefully\n",
      "Child Health Day data inserted Succefully\n",
      "World Teachers' Day data inserted Succefully\n",
      "World Cerebral Palsy Day data inserted Succefully\n",
      "World Sight Day data inserted Succefully\n",
      "World Post Day data inserted Succefully\n",
      "Leif Erikson Day data inserted Succefully\n",
      "Last Day of Sukkot data inserted Succefully\n",
      "World Mental Health Day data inserted Succefully\n",
      "Shmini Atzeret data inserted Succefully\n",
      "International Day of the Girl Child data inserted Succefully\n",
      "Simchat Torah data inserted Succefully\n",
      "Indigenous People's Day data inserted Succefully\n",
      "Columbus Day data inserted Succefully\n",
      "Native Americans' Day data inserted Succefully\n",
      "Columbus Day data inserted Succefully\n",
      "Navy Birthday data inserted Succefully\n",
      "International Day for Natural Disaster Reduction data inserted Succefully\n",
      "White Cane Safety Day data inserted Succefully\n",
      "International Day of Rural Women data inserted Succefully\n",
      "Boss's Day data inserted Succefully\n",
      "World Food Day data inserted Succefully\n",
      "Navratri data inserted Succefully\n",
      "Sweetest Day data inserted Succefully\n",
      "International Day for the Eradication of Poverty data inserted Succefully\n",
      "Alaska Day data inserted Succefully\n",
      "Alaska Day data inserted Succefully\n",
      "World Statistics Day data inserted Succefully\n",
      "World Development Information Day data inserted Succefully\n",
      "United Nations Day data inserted Succefully\n",
      "Dussehra data inserted Succefully\n",
      "World Day for Audiovisual Heritage data inserted Succefully\n",
      "World Stroke Day data inserted Succefully\n",
      "The Prophet's Birthday data inserted Succefully\n",
      "Nevada Day data inserted Succefully\n",
      "Halloween data inserted Succefully\n",
      "World Cities Day data inserted Succefully\n",
      "Daylight Saving Time ends data inserted Succefully\n",
      "New York City Marathon data inserted Succefully\n",
      "All Saints' Day data inserted Succefully\n",
      "World Vegan Day data inserted Succefully\n",
      "International Day to End Impunity for Crimes against Journalists data inserted Succefully\n",
      "All Souls' Day data inserted Succefully\n",
      "Election Day data inserted Succefully\n",
      "Election Day data inserted Succefully\n",
      "Return Day data inserted Succefully\n",
      "International Day for Preventing the Exploitation of the Environment in War and Armed Conflict data inserted Succefully\n",
      "World Science Day for Peace and Development data inserted Succefully\n",
      "Marine Corps Birthday data inserted Succefully\n",
      "Veterans Day data inserted Succefully\n",
      "World Pneumonia Day data inserted Succefully\n",
      "Friday the 13th data inserted Succefully\n",
      "World Diabetes Day data inserted Succefully\n",
      "Diwali/Deepavali data inserted Succefully\n",
      "World Day of Remembrance for Road Traffic Victims data inserted Succefully\n",
      "International Day for Tolerance data inserted Succefully\n",
      "World Prematurity Day data inserted Succefully\n",
      "World Toilet Day data inserted Succefully\n",
      "World Philosophy Day data inserted Succefully\n",
      "International Men's Day data inserted Succefully\n",
      "Universal Children's Day data inserted Succefully\n",
      "Africa Industrialization Day data inserted Succefully\n",
      "World Television Day data inserted Succefully\n",
      "International Day for the Elimination of Violence against Women data inserted Succefully\n",
      "Thanksgiving Day data inserted Succefully\n",
      "Presidents' Day data inserted Succefully\n",
      "Acadian Day data inserted Succefully\n",
      "Day After Thanksgiving data inserted Succefully\n",
      "Day After Thanksgiving data inserted Succefully\n",
      "State Holiday data inserted Succefully\n",
      "Lincoln's Birthday/Lincoln's Day data inserted Succefully\n",
      "Black Friday data inserted Succefully\n",
      "Family Day data inserted Succefully\n",
      "American Indian Heritage Day data inserted Succefully\n",
      "First Sunday of Advent data inserted Succefully\n",
      "International Day of Solidarity with the Palestinian People data inserted Succefully\n",
      "Cyber Monday data inserted Succefully\n",
      "World AIDS Day data inserted Succefully\n",
      "Rosa Parks Day data inserted Succefully\n",
      "Rosa Parks Day data inserted Succefully\n",
      "International Day for the Abolition of Slavery data inserted Succefully\n",
      "International Day of Persons with Disabilities data inserted Succefully\n",
      "International Volunteer Day for Economic and Social Development data inserted Succefully\n",
      "World Soil Day data inserted Succefully\n",
      "St Nicholas Day data inserted Succefully\n",
      "Pearl Harbor Remembrance Day data inserted Succefully\n",
      "International Civil Aviation Day data inserted Succefully\n",
      "Feast of the Immaculate Conception data inserted Succefully\n",
      "World Genocide Commemoration Day data inserted Succefully\n",
      "International Anti-Corruption Day data inserted Succefully\n",
      "Human Rights Day data inserted Succefully\n",
      "Chanukah/Hanukkah (first day) data inserted Succefully\n",
      "International Mountain Day data inserted Succefully\n",
      "Feast of Our Lady of Guadalupe data inserted Succefully\n",
      "National Guard Birthday data inserted Succefully\n",
      "Bill of Rights Day data inserted Succefully\n",
      "Wright Brothers Day data inserted Succefully\n",
      "Pan American Aviation Day data inserted Succefully\n",
      "Last Day of Chanukah data inserted Succefully\n",
      "International Migrants Day data inserted Succefully\n",
      "Arabic Language Day data inserted Succefully\n",
      "International Human Solidarity Day data inserted Succefully\n",
      "December Solstice data inserted Succefully\n",
      "Christmas Eve data inserted Succefully\n",
      "Christmas Eve data inserted Succefully\n",
      "Christmas Day data inserted Succefully\n",
      "Day After Christmas Day data inserted Succefully\n",
      "Kwanzaa (first day) data inserted Succefully\n",
      "Day After Christmas Day data inserted Succefully\n",
      "New Year's Eve data inserted Succefully\n",
      "New Year's Eve data inserted Succefully\n"
     ]
    }
   ],
   "source": [
    "api_url = requests.get('https://holidays.abstractapi.com/v1/?api_key=574b7d06a79c4794a2e390123a19b857&country=US&year=2020')\n",
    "data_json = api_url.json()\n",
    "\n",
    "connection = sqlite3.connect('holiday.sqlite')\n",
    "cursor = connection.cursor()\n",
    "cursor.execute('Create Table if not exists holiday (name TEXT, date TEXT, type TEXT, country TEXT)')\n",
    "\n",
    "columns = ['name','date','type', 'country']\n",
    "for row in data_json:\n",
    "    keys= tuple(row[c] for c in columns)\n",
    "    cursor.execute('insert into holiday values(?,?,?,?)',keys)\n",
    "    print(f'{row[\"name\"]} data inserted Succefully')\n",
    "\n",
    "connection.commit()\n",
    "connection.close()"
   ]
  },
  {
   "cell_type": "markdown",
   "metadata": {},
   "source": [
    "## Produce informative error if file doesn't exist to save"
   ]
  },
  {
   "cell_type": "code",
   "execution_count": 15,
   "metadata": {},
   "outputs": [
    {
     "name": "stdout",
     "output_type": "stream",
     "text": [
      "File present\n"
     ]
    }
   ],
   "source": [
    "try:\n",
    "    with open('holiday.sqlite') as file:\n",
    "        print(\"File present\")\n",
    "except FileNotFoundError:\n",
    "    print('File is not present')"
   ]
  },
  {
   "cell_type": "markdown",
   "metadata": {},
   "source": [
    "## Convert from JSON to CSV (local file) written to disk"
   ]
  },
  {
   "cell_type": "code",
   "execution_count": 16,
   "metadata": {},
   "outputs": [],
   "source": [
    "data = pd.read_json('https://holidays.abstractapi.com/v1/?api_key=574b7d06a79c4794a2e390123a19b857&country=US&year=2020')\n",
    "data.to_csv('holiday.csv', index=None)"
   ]
  },
  {
   "cell_type": "markdown",
   "metadata": {},
   "source": [
    "## Modify number of columns from source to destination: CSV file"
   ]
  },
  {
   "cell_type": "markdown",
   "metadata": {},
   "source": [
    "### Remove columns: date_day, date_month, date_year, description, language, location, name_local"
   ]
  },
  {
   "cell_type": "code",
   "execution_count": 8,
   "metadata": {},
   "outputs": [],
   "source": [
    "data.drop(['date', 'description', 'language', 'location', 'name_local'], inplace=True, axis=1)"
   ]
  },
  {
   "cell_type": "markdown",
   "metadata": {},
   "source": [
    "### Add date column that combines weekday, date day, month, and year of holiday"
   ]
  },
  {
   "cell_type": "code",
   "execution_count": 9,
   "metadata": {},
   "outputs": [],
   "source": [
    "data[\"date\"] = (data[\"week_day\"].astype(str) + \" \" + data[\"date_month\"].astype(str) + \"/\" + data[\"date_day\"].astype(str) + \"/\" + data[\"date_year\"].astype(str))\n",
    "data.drop(['date_day', 'date_month', 'date_year', 'week_day'], inplace=True, axis=1)"
   ]
  },
  {
   "cell_type": "markdown",
   "metadata": {},
   "source": [
    "### Reorder columns"
   ]
  },
  {
   "cell_type": "code",
   "execution_count": 10,
   "metadata": {},
   "outputs": [],
   "source": [
    "data = data[['name', 'date', 'type', 'country']]"
   ]
  },
  {
   "cell_type": "markdown",
   "metadata": {},
   "source": [
    "### Update new CSV file written to disk (local file)"
   ]
  },
  {
   "cell_type": "code",
   "execution_count": 11,
   "metadata": {},
   "outputs": [],
   "source": [
    "data.to_csv('holiday.csv', index=None)"
   ]
  },
  {
   "cell_type": "markdown",
   "metadata": {},
   "source": [
    "## Produce informative error if file doesn't exist to update"
   ]
  },
  {
   "cell_type": "code",
   "execution_count": 12,
   "metadata": {},
   "outputs": [],
   "source": [
    "try:\n",
    "    with open('holiday.csv') as file:\n",
    "        read_data = file.read()\n",
    "except FileNotFoundError as fnf_error:\n",
    "    print(fnf_error)"
   ]
  },
  {
   "cell_type": "markdown",
   "metadata": {},
   "source": [
    "## Brief summary of data file ingestion for SQLite database"
   ]
  },
  {
   "cell_type": "markdown",
   "metadata": {},
   "source": [
    "### Connecting to sqlite\n",
    "#### Connection object"
   ]
  },
  {
   "cell_type": "code",
   "execution_count": 19,
   "metadata": {},
   "outputs": [],
   "source": [
    "connection_obj = sqlite3.connect('holiday.sqlite')"
   ]
  },
  {
   "cell_type": "markdown",
   "metadata": {},
   "source": [
    "#### Cursor object"
   ]
  },
  {
   "cell_type": "code",
   "execution_count": 20,
   "metadata": {},
   "outputs": [],
   "source": [
    "cursor_obj = connection_obj.cursor()"
   ]
  },
  {
   "cell_type": "markdown",
   "metadata": {},
   "source": [
    "### How many records and columns are in the SQLite database:"
   ]
  },
  {
   "cell_type": "code",
   "execution_count": 13,
   "metadata": {},
   "outputs": [
    {
     "name": "stdout",
     "output_type": "stream",
     "text": [
      "Number of Records: \n",
      "848\n",
      "Number of Columns: \n",
      "4\n"
     ]
    }
   ],
   "source": [
    "print(\"Number of Records: \")\n",
    "cursor_obj.execute(\"SELECT * FROM HOLIDAY\")\n",
    "print(len(cursor_obj.fetchall()))\n",
    "\n",
    "print(\"Number of Columns: \")\n",
    "cursor_obj.execute(\"SELECT * FROM pragma_table_info('HOLIDAY')\")\n",
    "print(len(cursor_obj.fetchall()))"
   ]
  },
  {
   "cell_type": "markdown",
   "metadata": {},
   "source": [
    "### Close the connection"
   ]
  },
  {
   "cell_type": "code",
   "execution_count": 21,
   "metadata": {},
   "outputs": [],
   "source": [
    "connection_obj.close()"
   ]
  },
  {
   "cell_type": "markdown",
   "metadata": {},
   "source": [
    "## Brief summary of data file ingestion for CSV file"
   ]
  },
  {
   "cell_type": "markdown",
   "metadata": {},
   "source": [
    "### How many records and columns are in the CSV file:"
   ]
  },
  {
   "cell_type": "code",
   "execution_count": 14,
   "metadata": {},
   "outputs": [
    {
     "name": "stdout",
     "output_type": "stream",
     "text": [
      "Number of Records: 424\n",
      "Number of Columns: 4\n"
     ]
    }
   ],
   "source": [
    "total_records = len(data.axes[0])\n",
    "total_columns = len(data.axes[1])\n",
    "print(\"Number of Records: \"+ str(total_records))\n",
    "print(\"Number of Columns: \"+ str(total_columns))"
   ]
  }
 ],
 "metadata": {
  "kernelspec": {
   "display_name": "Python 3 (ipykernel)",
   "language": "python",
   "name": "python3"
  },
  "language_info": {
   "codemirror_mode": {
    "name": "ipython",
    "version": 3
   },
   "file_extension": ".py",
   "mimetype": "text/x-python",
   "name": "python",
   "nbconvert_exporter": "python",
   "pygments_lexer": "ipython3",
   "version": "3.7.3"
  }
 },
 "nbformat": 4,
 "nbformat_minor": 2
}
