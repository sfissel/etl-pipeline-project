{
 "cells": [
  {
   "cell_type": "markdown",
   "metadata": {},
   "source": [
    "# Data Science Systems: Creating a segment of an ETL pipeline that will ingest and process raw data\n",
    "## - Implementing data science systems rooted in SQL and other data sources like CSVs, Open Data, and other relational data sources, as well as APIs and data transformation\n",
    "## Stephanie Fissel, October 20, 2022"
   ]
  },
  {
   "cell_type": "markdown",
   "metadata": {},
   "source": [
    "## Import Packages"
   ]
  },
  {
   "cell_type": "code",
   "execution_count": 9,
   "metadata": {},
   "outputs": [],
   "source": [
    "import json\n",
    "import csv\n",
    "import requests\n",
    "import pandas as pd\n",
    "import sqlite3"
   ]
  },
  {
   "cell_type": "markdown",
   "metadata": {},
   "source": [
    "## Fetch remote data file by URL"
   ]
  },
  {
   "cell_type": "markdown",
   "metadata": {},
   "source": [
    "### Import urllib library"
   ]
  },
  {
   "cell_type": "code",
   "execution_count": 3,
   "metadata": {},
   "outputs": [],
   "source": [
    "from urllib.request import urlopen"
   ]
  },
  {
   "cell_type": "markdown",
   "metadata": {},
   "source": [
    "### Store URL in url as parameter for urlopen"
   ]
  },
  {
   "cell_type": "code",
   "execution_count": 4,
   "metadata": {},
   "outputs": [],
   "source": [
    "url = \"https://holidays.abstractapi.com/v1/?api_key=574b7d06a79c4794a2e390123a19b857&country=US&year=2020\""
   ]
  },
  {
   "cell_type": "markdown",
   "metadata": {},
   "source": [
    "### Store the response of URL"
   ]
  },
  {
   "cell_type": "code",
   "execution_count": 6,
   "metadata": {},
   "outputs": [],
   "source": [
    "response = urlopen(url)"
   ]
  },
  {
   "cell_type": "markdown",
   "metadata": {},
   "source": [
    "### Store the JSON response from url in data"
   ]
  },
  {
   "cell_type": "code",
   "execution_count": 10,
   "metadata": {},
   "outputs": [],
   "source": [
    "data_json = json.loads(response.read())"
   ]
  },
  {
   "cell_type": "markdown",
   "metadata": {},
   "source": [
    "## Convert from JSON to SQLite database (with reduced number of columns from source to destination)"
   ]
  },
  {
   "cell_type": "code",
   "execution_count": 14,
   "metadata": {},
   "outputs": [
    {
     "name": "stdout",
     "output_type": "stream",
     "text": [
      "New Year's Day data inserted Succefully\n",
      "World Braille Day data inserted Succefully\n",
      "Epiphany data inserted Succefully\n",
      "International Programmers' Day data inserted Succefully\n",
      "Orthodox Christmas Day data inserted Succefully\n",
      "Stephen Foster Memorial Day data inserted Succefully\n",
      "Orthodox New Year data inserted Succefully\n",
      "Lee-Jackson Day data inserted Succefully\n",
      "Confederate Heroes' Day data inserted Succefully\n",
      "World Religion Day data inserted Succefully\n",
      "Robert E. Lee's Birthday data inserted Succefully\n",
      "Martin Luther King Jr. Day data inserted Succefully\n",
      "Civil Rights Day data inserted Succefully\n",
      "Robert E. Lee's Birthday data inserted Succefully\n",
      "Civil Rights Day data inserted Succefully\n",
      "Robert E. Lee's Birthday data inserted Succefully\n",
      "Robert E. Lee's Birthday data inserted Succefully\n",
      "Idaho Human Rights Day data inserted Succefully\n",
      "Chinese New Year data inserted Succefully\n",
      "World Leprosy Day data inserted Succefully\n",
      "International Customs Day data inserted Succefully\n",
      "International Day of Commemoration in Memory of the Victims of the Holocaust data inserted Succefully\n",
      "Kansas Day data inserted Succefully\n",
      "National Freedom Day data inserted Succefully\n",
      "Groundhog Day data inserted Succefully\n",
      "Super Bowl data inserted Succefully\n",
      "World Wetlands Day data inserted Succefully\n",
      "Rosa Parks Day data inserted Succefully\n",
      "World Cancer Day data inserted Succefully\n",
      "Rosa Parks Day data inserted Succefully\n",
      "International Day of Zero Tolerance for Female Genital Mutilation data inserted Succefully\n",
      "National Wear Red Day data inserted Succefully\n",
      "Tu Bishvat/Tu B'Shevat data inserted Succefully\n",
      "World Day of the Sick data inserted Succefully\n",
      "International Day of Women and Girls in Science data inserted Succefully\n",
      "Lincoln's Birthday data inserted Succefully\n",
      "Lincoln's Birthday data inserted Succefully\n",
      "World Radio Day data inserted Succefully\n",
      "Statehood Day data inserted Succefully\n",
      "Valentine's Day data inserted Succefully\n",
      "Susan B. Anthony's Birthday data inserted Succefully\n",
      "Susan B. Anthony's Birthday data inserted Succefully\n",
      "Susan B. Anthony's Birthday data inserted Succefully\n",
      "Susan B. Anthony's Birthday data inserted Succefully\n",
      "Elizabeth Peratrovich Day data inserted Succefully\n",
      "Presidents' Day data inserted Succefully\n",
      "Daisy Gatson Bates Day data inserted Succefully\n",
      "World Day of Social Justice data inserted Succefully\n",
      "Maha Shivaratri data inserted Succefully\n",
      "International Mother Language Day data inserted Succefully\n",
      "Shrove Tuesday/Mardi Gras data inserted Succefully\n",
      "Shrove Tuesday/Mardi Gras data inserted Succefully\n",
      "Shrove Tuesday/Mardi Gras data inserted Succefully\n",
      "Shrove Tuesday/Mardi Gras data inserted Succefully\n",
      "Ash Wednesday data inserted Succefully\n",
      "Linus Pauling Day data inserted Succefully\n",
      "Leap Day data inserted Succefully\n",
      "St. David's Day data inserted Succefully\n",
      "Zero Discrimination Day data inserted Succefully\n",
      "Self-Injury Awareness Day data inserted Succefully\n",
      "Casimir Pulaski Day data inserted Succefully\n",
      "Read Across America Day data inserted Succefully\n",
      "Texas Independence Day data inserted Succefully\n",
      "World Wildlife Day data inserted Succefully\n",
      "Town Meeting Day data inserted Succefully\n",
      "Super Tuesday data inserted Succefully\n",
      "Employee Appreciation Day data inserted Succefully\n",
      "Daylight Saving Time starts data inserted Succefully\n",
      "International Women's Day data inserted Succefully\n",
      "Holi data inserted Succefully\n",
      "Purim data inserted Succefully\n",
      "World Kidney Day data inserted Succefully\n",
      "Friday the 13th data inserted Succefully\n",
      "Evacuation Day data inserted Succefully\n",
      "St. Patrick's Day data inserted Succefully\n",
      "March Equinox data inserted Succefully\n",
      "International Day of Happiness data inserted Succefully\n",
      "World Down Syndrome Day data inserted Succefully\n",
      "International Day of Forests data inserted Succefully\n",
      "International Day for the Elimination of Racial Discrimination data inserted Succefully\n",
      "World Poetry Day data inserted Succefully\n",
      "International Day of Nowruz data inserted Succefully\n",
      "Isra and Mi'raj data inserted Succefully\n",
      "World Water Day data inserted Succefully\n",
      "World Meteorological Day data inserted Succefully\n",
      "World Tuberculosis Day data inserted Succefully\n",
      "International Day for the Right to the Truth concerning Gross Human Rights Violations and for the Dignity of Victims data inserted Succefully\n",
      "International Day of Solidarity with Detained and Missing Staff Members data inserted Succefully\n",
      "Maryland Day data inserted Succefully\n",
      "International Day of Remembrance of Slavery Victims and the Transatlantic Slave Trade data inserted Succefully\n",
      "Prince Jonah Kuhio Kalanianaole Day data inserted Succefully\n",
      "Earth Hour data inserted Succefully\n",
      "National Vietnam War Veterans Day data inserted Succefully\n",
      "Seward's Day data inserted Succefully\n",
      "César Chávez Day data inserted Succefully\n",
      "César Chávez Day data inserted Succefully\n",
      "César Chávez Day data inserted Succefully\n",
      "César Chávez Day data inserted Succefully\n",
      "April Fool's Day data inserted Succefully\n",
      "Pascua Florida Day data inserted Succefully\n",
      "World Autism Awareness Day data inserted Succefully\n",
      "United Nations' Mine Awareness Day data inserted Succefully\n",
      "Palm Sunday data inserted Succefully\n",
      "National Tartan Day data inserted Succefully\n",
      "International Day of Sport for Development and Peace data inserted Succefully\n",
      "Day of Remembrance of the Victims of the Rwanda Genocide data inserted Succefully\n",
      "United Nations' World Health Day data inserted Succefully\n",
      "Passover (first day) data inserted Succefully\n",
      "Maundy Thursday data inserted Succefully\n",
      "Good Friday data inserted Succefully\n",
      "Holy Saturday data inserted Succefully\n",
      "Easter Sunday data inserted Succefully\n",
      "International Day of Human Space Flight data inserted Succefully\n",
      "Easter Monday data inserted Succefully\n",
      "Thomas Jefferson's Birthday data inserted Succefully\n",
      "Father Damien Day data inserted Succefully\n",
      "Tax Day data inserted Succefully\n",
      "Last Day of Passover data inserted Succefully\n",
      "Emancipation Day data inserted Succefully\n",
      "Orthodox Good Friday data inserted Succefully\n",
      "Orthodox Holy Saturday data inserted Succefully\n",
      "International Day for Monuments and Sites data inserted Succefully\n",
      "Orthodox Easter data inserted Succefully\n",
      "Boston Marathon data inserted Succefully\n",
      "Chinese Language Day data inserted Succefully\n",
      "Orthodox Easter Monday data inserted Succefully\n",
      "Patriot's Day data inserted Succefully\n",
      "Yom HaShoah data inserted Succefully\n",
      "National Library Workers' Day data inserted Succefully\n",
      "San Jacinto Day data inserted Succefully\n",
      "Oklahoma Day data inserted Succefully\n",
      "Earth Day data inserted Succefully\n",
      "Administrative Professionals Day data inserted Succefully\n",
      "Take our Daughters and Sons to Work Day data inserted Succefully\n",
      "World Book and Copyright Day data inserted Succefully\n",
      "English Language Day data inserted Succefully\n",
      "Ramadan Starts data inserted Succefully\n",
      "Arbor Day data inserted Succefully\n",
      "World Malaria Day data inserted Succefully\n",
      "World Intellectual Property Day data inserted Succefully\n",
      "International Chernobyl Disaster Remembrance Day data inserted Succefully\n",
      "Confederate Heroes' Day data inserted Succefully\n",
      "Confederate Memorial Day data inserted Succefully\n",
      "Confederate Heroes' Day data inserted Succefully\n",
      "State Holiday data inserted Succefully\n",
      "Confederate Memorial Day data inserted Succefully\n",
      "World Day for Safety and Health at Work data inserted Succefully\n",
      "Day of Remembrance for all Victims of Chemical Warfare data inserted Succefully\n",
      "Yom Ha'atzmaut data inserted Succefully\n",
      "International Jazz Day data inserted Succefully\n",
      "Loyalty Day data inserted Succefully\n",
      "Kentucky Oaks data inserted Succefully\n",
      "Lei Day data inserted Succefully\n",
      "Law Day data inserted Succefully\n",
      "World Tuna Day data inserted Succefully\n",
      "National Explosive Ordnance Disposal (EOD) Day data inserted Succefully\n",
      "Kentucky Derby data inserted Succefully\n",
      "World Press Freedom Day data inserted Succefully\n",
      "Kent State Shootings Remembrance data inserted Succefully\n",
      "Rhode Island Independence Day data inserted Succefully\n",
      "Cinco de Mayo data inserted Succefully\n",
      "National Nurses Day data inserted Succefully\n",
      "National Day of Prayer data inserted Succefully\n",
      "Time of Remembrance and Reconciliation for Those Who Lost Their Lives during the Second World War data inserted Succefully\n",
      "Truman Day data inserted Succefully\n",
      "Victory in Europe Day data inserted Succefully\n",
      "World Ovarian Cancer Day data inserted Succefully\n",
      "Military Spouse Appreciation Day data inserted Succefully\n",
      "World Migratory Bird Day data inserted Succefully\n",
      "Confederate Memorial Day data inserted Succefully\n",
      "Confederate Memorial Day data inserted Succefully\n",
      "Mother's Day data inserted Succefully\n",
      "Confederate Memorial Day data inserted Succefully\n",
      "Primary Election Day data inserted Succefully\n",
      "Lag BaOmer data inserted Succefully\n",
      "International Nurses Day data inserted Succefully\n",
      "Peace Officers Memorial Day data inserted Succefully\n",
      "International Day of Families data inserted Succefully\n",
      "National Defense Transportation Day data inserted Succefully\n",
      "Armed Forces Day data inserted Succefully\n",
      "Preakness Stakes data inserted Succefully\n",
      "World Information Society Day data inserted Succefully\n",
      "Lailat al-Qadr data inserted Succefully\n",
      "Emergency Medical Services for Children Day data inserted Succefully\n",
      "World Autoimmune / Autoinflammatory Arthritis Day data inserted Succefully\n",
      "Ascension Day data inserted Succefully\n",
      "World Day for Cultural Diversity for Dialogue and Development data inserted Succefully\n",
      "Harvey Milk Day data inserted Succefully\n",
      "International Day for Biological Diversity data inserted Succefully\n",
      "National Maritime Day data inserted Succefully\n",
      "International Day to End Obstetric Fistula data inserted Succefully\n",
      "Eid al-Fitr data inserted Succefully\n",
      "African Liberation Day data inserted Succefully\n",
      "Memorial Day data inserted Succefully\n",
      "National Missing Children's Day data inserted Succefully\n",
      "Jefferson Davis' Birthday data inserted Succefully\n",
      "Shavuot data inserted Succefully\n",
      "International Day of United Nations Peacekeepers data inserted Succefully\n",
      "World No Tobacco Day data inserted Succefully\n",
      "Pentecost data inserted Succefully\n",
      "Whit Monday data inserted Succefully\n",
      "Jefferson Davis' Birthday data inserted Succefully\n",
      "Statehood Day data inserted Succefully\n",
      "Global Day of Parents data inserted Succefully\n",
      "Jefferson Davis' Birthday data inserted Succefully\n",
      "International Day of Innocent Children Victims of Aggression data inserted Succefully\n",
      "World Environment Day data inserted Succefully\n",
      "Belmont Stakes data inserted Succefully\n",
      "D-Day data inserted Succefully\n",
      "Trinity Sunday data inserted Succefully\n",
      "World Oceans Day data inserted Succefully\n",
      "Corpus Christi data inserted Succefully\n",
      "Kamehameha Day data inserted Succefully\n",
      "World Day Against Child Labour data inserted Succefully\n",
      "International Albinism Awareness Day data inserted Succefully\n",
      "World Blood Donor Day data inserted Succefully\n",
      "Bunker Hill Day data inserted Succefully\n",
      "Army Birthday data inserted Succefully\n",
      "Flag Day data inserted Succefully\n",
      "World Elder Abuse Awareness Day data inserted Succefully\n",
      "International Day of Family Remittances data inserted Succefully\n",
      "World Day to Combat Desertification and Drought data inserted Succefully\n",
      "Juneteenth data inserted Succefully\n",
      "International Day for the Elimination of Sexual Violence in Conflict data inserted Succefully\n",
      "Emancipation Day data inserted Succefully\n",
      "World Refugee Day data inserted Succefully\n",
      "West Virginia Day data inserted Succefully\n",
      "June Solstice data inserted Succefully\n",
      "American Eagle Day data inserted Succefully\n",
      "Father's Day data inserted Succefully\n",
      "International Day of Yoga data inserted Succefully\n",
      "International Widows' Day data inserted Succefully\n",
      "Public Service Day data inserted Succefully\n",
      "Day of the Seafarer data inserted Succefully\n",
      "International Day in Support of Victims of Torture data inserted Succefully\n",
      "International Day Against Drug Abuse and Illicit Trafficking data inserted Succefully\n",
      "International Asteroid Day data inserted Succefully\n",
      "Independence Day data inserted Succefully\n",
      "Independence Day data inserted Succefully\n",
      "International Day of Cooperatives data inserted Succefully\n",
      "World Population Day data inserted Succefully\n",
      "Nathan Bedford Forrest Day data inserted Succefully\n",
      "Bastille Day data inserted Succefully\n",
      "World Youth Skills Day data inserted Succefully\n",
      "Nelson Mandela Day data inserted Succefully\n",
      "Pioneer Day data inserted Succefully\n",
      "Parents' Day data inserted Succefully\n",
      "National Korean War Veterans Armistice Day data inserted Succefully\n",
      "World Hepatitis Day data inserted Succefully\n",
      "International Day of Friendship data inserted Succefully\n",
      "World Day against Trafficking in Persons data inserted Succefully\n",
      "Tisha B'Av data inserted Succefully\n",
      "Eid al-Adha data inserted Succefully\n",
      "Colorado Day data inserted Succefully\n",
      "Raksha Bandhan data inserted Succefully\n",
      "Coast Guard Birthday data inserted Succefully\n",
      "Purple Heart Day data inserted Succefully\n",
      "International Day of the World's Indigenous People data inserted Succefully\n",
      "Victory Day data inserted Succefully\n",
      "Janmashtami data inserted Succefully\n",
      "International Youth Day data inserted Succefully\n",
      "Assumption of Mary data inserted Succefully\n",
      "Bennington Battle Day data inserted Succefully\n",
      "Bennington Battle Day data inserted Succefully\n",
      "National Aviation Day data inserted Succefully\n",
      "World Humanitarian Day data inserted Succefully\n",
      "Muharram data inserted Succefully\n",
      "Hawaii Statehood Day data inserted Succefully\n",
      "Senior Citizens Day data inserted Succefully\n",
      "Ganesh Chaturthi data inserted Succefully\n",
      "International Day for the Remembrance of the Slave Trade and its Abolition data inserted Succefully\n",
      "Women's Equality Day data inserted Succefully\n",
      "Lyndon Baines Johnson Day data inserted Succefully\n",
      "International Day against Nuclear Tests data inserted Succefully\n",
      "International Day of the Victims of Enforced Disappearances data inserted Succefully\n",
      "International Overdose Awareness Day data inserted Succefully\n",
      "World Sexual Health Day data inserted Succefully\n",
      "International Day of Charity data inserted Succefully\n",
      "Labor Day data inserted Succefully\n",
      "International Literacy Day data inserted Succefully\n",
      "California Admission Day data inserted Succefully\n",
      "World Suicide Prevention Day data inserted Succefully\n",
      "Patriot Day data inserted Succefully\n",
      "Carl Garner Federal Lands Cleanup Day data inserted Succefully\n",
      "International Programmers' Day data inserted Succefully\n",
      "International Day for South-South Cooperation data inserted Succefully\n",
      "National Grandparents Day data inserted Succefully\n",
      "International Day of Democracy data inserted Succefully\n",
      "International Day for the Preservation of the Ozone Layer data inserted Succefully\n",
      "Constitution Day and Citizenship Day data inserted Succefully\n",
      "Air Force Birthday data inserted Succefully\n",
      "National POW/MIA Recognition Day data inserted Succefully\n",
      "Rosh Hashana data inserted Succefully\n",
      "National CleanUp Day data inserted Succefully\n",
      "Rosh Hashana data inserted Succefully\n",
      "International Day of Peace data inserted Succefully\n",
      "September Equinox data inserted Succefully\n",
      "Emancipation Day data inserted Succefully\n",
      "International Celebrate Bisexuality Day data inserted Succefully\n",
      "World Maritime Day data inserted Succefully\n",
      "Native American Day data inserted Succefully\n",
      "International Day for the Total Elimination of Nuclear Weapons data inserted Succefully\n",
      "Gold Star Mother's Day data inserted Succefully\n",
      "World Tourism Day data inserted Succefully\n",
      "Yom Kippur data inserted Succefully\n",
      "Yom Kippur data inserted Succefully\n",
      "World Rabies Day data inserted Succefully\n",
      "World Heart Day data inserted Succefully\n",
      "International Day of Older Persons data inserted Succefully\n",
      "World Vegetarian Day data inserted Succefully\n",
      "International Day of Non-Violence data inserted Succefully\n",
      "First Day of Sukkot data inserted Succefully\n",
      "Feast of St Francis of Assisi data inserted Succefully\n",
      "World Habitat Day data inserted Succefully\n",
      "Child Health Day data inserted Succefully\n",
      "World Teachers' Day data inserted Succefully\n",
      "World Cerebral Palsy Day data inserted Succefully\n",
      "World Sight Day data inserted Succefully\n",
      "World Post Day data inserted Succefully\n",
      "Leif Erikson Day data inserted Succefully\n",
      "Last Day of Sukkot data inserted Succefully\n",
      "World Mental Health Day data inserted Succefully\n",
      "Shmini Atzeret data inserted Succefully\n",
      "International Day of the Girl Child data inserted Succefully\n",
      "Simchat Torah data inserted Succefully\n",
      "Indigenous People's Day data inserted Succefully\n",
      "Columbus Day data inserted Succefully\n",
      "Native Americans' Day data inserted Succefully\n",
      "Columbus Day data inserted Succefully\n",
      "Navy Birthday data inserted Succefully\n",
      "International Day for Natural Disaster Reduction data inserted Succefully\n",
      "White Cane Safety Day data inserted Succefully\n",
      "International Day of Rural Women data inserted Succefully\n",
      "Boss's Day data inserted Succefully\n",
      "World Food Day data inserted Succefully\n",
      "Navratri data inserted Succefully\n",
      "Sweetest Day data inserted Succefully\n",
      "International Day for the Eradication of Poverty data inserted Succefully\n",
      "Alaska Day data inserted Succefully\n",
      "Alaska Day data inserted Succefully\n",
      "World Statistics Day data inserted Succefully\n",
      "World Development Information Day data inserted Succefully\n",
      "United Nations Day data inserted Succefully\n",
      "Dussehra data inserted Succefully\n",
      "World Day for Audiovisual Heritage data inserted Succefully\n",
      "World Stroke Day data inserted Succefully\n",
      "The Prophet's Birthday data inserted Succefully\n",
      "Nevada Day data inserted Succefully\n",
      "Halloween data inserted Succefully\n",
      "World Cities Day data inserted Succefully\n",
      "Daylight Saving Time ends data inserted Succefully\n",
      "New York City Marathon data inserted Succefully\n",
      "All Saints' Day data inserted Succefully\n",
      "World Vegan Day data inserted Succefully\n",
      "International Day to End Impunity for Crimes against Journalists data inserted Succefully\n",
      "All Souls' Day data inserted Succefully\n",
      "Election Day data inserted Succefully\n",
      "Election Day data inserted Succefully\n",
      "Return Day data inserted Succefully\n",
      "International Day for Preventing the Exploitation of the Environment in War and Armed Conflict data inserted Succefully\n",
      "World Science Day for Peace and Development data inserted Succefully\n",
      "Marine Corps Birthday data inserted Succefully\n",
      "Veterans Day data inserted Succefully\n",
      "World Pneumonia Day data inserted Succefully\n",
      "Friday the 13th data inserted Succefully\n",
      "World Diabetes Day data inserted Succefully\n",
      "Diwali/Deepavali data inserted Succefully\n",
      "World Day of Remembrance for Road Traffic Victims data inserted Succefully\n",
      "International Day for Tolerance data inserted Succefully\n",
      "World Prematurity Day data inserted Succefully\n",
      "World Toilet Day data inserted Succefully\n",
      "World Philosophy Day data inserted Succefully\n",
      "International Men's Day data inserted Succefully\n",
      "Universal Children's Day data inserted Succefully\n",
      "Africa Industrialization Day data inserted Succefully\n",
      "World Television Day data inserted Succefully\n",
      "International Day for the Elimination of Violence against Women data inserted Succefully\n",
      "Thanksgiving Day data inserted Succefully\n",
      "Presidents' Day data inserted Succefully\n",
      "Acadian Day data inserted Succefully\n",
      "Day After Thanksgiving data inserted Succefully\n",
      "Day After Thanksgiving data inserted Succefully\n",
      "State Holiday data inserted Succefully\n",
      "Lincoln's Birthday/Lincoln's Day data inserted Succefully\n",
      "Black Friday data inserted Succefully\n",
      "Family Day data inserted Succefully\n",
      "American Indian Heritage Day data inserted Succefully\n",
      "First Sunday of Advent data inserted Succefully\n",
      "International Day of Solidarity with the Palestinian People data inserted Succefully\n",
      "Cyber Monday data inserted Succefully\n",
      "World AIDS Day data inserted Succefully\n",
      "Rosa Parks Day data inserted Succefully\n",
      "Rosa Parks Day data inserted Succefully\n",
      "International Day for the Abolition of Slavery data inserted Succefully\n",
      "International Day of Persons with Disabilities data inserted Succefully\n",
      "International Volunteer Day for Economic and Social Development data inserted Succefully\n",
      "World Soil Day data inserted Succefully\n",
      "St Nicholas Day data inserted Succefully\n",
      "Pearl Harbor Remembrance Day data inserted Succefully\n",
      "International Civil Aviation Day data inserted Succefully\n",
      "Feast of the Immaculate Conception data inserted Succefully\n",
      "World Genocide Commemoration Day data inserted Succefully\n",
      "International Anti-Corruption Day data inserted Succefully\n",
      "Human Rights Day data inserted Succefully\n",
      "Chanukah/Hanukkah (first day) data inserted Succefully\n",
      "International Mountain Day data inserted Succefully\n",
      "Feast of Our Lady of Guadalupe data inserted Succefully\n",
      "National Guard Birthday data inserted Succefully\n",
      "Bill of Rights Day data inserted Succefully\n",
      "Wright Brothers Day data inserted Succefully\n",
      "Pan American Aviation Day data inserted Succefully\n",
      "Last Day of Chanukah data inserted Succefully\n",
      "International Migrants Day data inserted Succefully\n",
      "Arabic Language Day data inserted Succefully\n",
      "International Human Solidarity Day data inserted Succefully\n",
      "December Solstice data inserted Succefully\n",
      "Christmas Eve data inserted Succefully\n",
      "Christmas Eve data inserted Succefully\n",
      "Christmas Day data inserted Succefully\n",
      "Day After Christmas Day data inserted Succefully\n",
      "Kwanzaa (first day) data inserted Succefully\n",
      "Day After Christmas Day data inserted Succefully\n",
      "New Year's Eve data inserted Succefully\n",
      "New Year's Eve data inserted Succefully\n"
     ]
    }
   ],
   "source": [
    "api_url = requests.get('https://holidays.abstractapi.com/v1/?api_key=574b7d06a79c4794a2e390123a19b857&country=US&year=2020')\n",
    "data_json = api_url.json()\n",
    "\n",
    "connection = sqlite3.connect('holiday.sqlite')\n",
    "cursor = connection.cursor()\n",
    "cursor.execute('Create Table if not exists holiday (name TEXT, date TEXT, type TEXT, country TEXT)')\n",
    "\n",
    "columns = ['name','date','type', 'country']\n",
    "for row in data_json:\n",
    "    keys= tuple(row[c] for c in columns)\n",
    "    cursor.execute('insert into holiday values(?,?,?,?)',keys)\n",
    "    print(f'{row[\"name\"]} data inserted Succefully')\n",
    "\n",
    "connection.commit()\n",
    "connection.close()"
   ]
  },
  {
   "cell_type": "markdown",
   "metadata": {},
   "source": [
    "## Produce informative error if file doesn't exist to save"
   ]
  },
  {
   "cell_type": "code",
   "execution_count": 15,
   "metadata": {},
   "outputs": [
    {
     "name": "stdout",
     "output_type": "stream",
     "text": [
      "File present\n"
     ]
    }
   ],
   "source": [
    "try:\n",
    "    with open('holiday.sqlite') as file:\n",
    "        print(\"File present\")\n",
    "except FileNotFoundError:\n",
    "    print('File is not present')"
   ]
  },
  {
   "cell_type": "markdown",
   "metadata": {},
   "source": [
    "## Convert from JSON to CSV (local file) written to disk"
   ]
  },
  {
   "cell_type": "code",
   "execution_count": 16,
   "metadata": {},
   "outputs": [],
   "source": [
    "data = pd.read_json('https://holidays.abstractapi.com/v1/?api_key=574b7d06a79c4794a2e390123a19b857&country=US&year=2020')\n",
    "data.to_csv('holiday.csv', index=None)"
   ]
  },
  {
   "cell_type": "markdown",
   "metadata": {},
   "source": [
    "## Modify number of columns from source to destination: CSV file"
   ]
  },
  {
   "cell_type": "markdown",
   "metadata": {},
   "source": [
    "### Remove columns: date_day, date_month, date_year, description, language, location, name_local"
   ]
  },
  {
   "cell_type": "code",
   "execution_count": 8,
   "metadata": {},
   "outputs": [],
   "source": [
    "data.drop(['date', 'description', 'language', 'location', 'name_local'], inplace=True, axis=1)"
   ]
  },
  {
   "cell_type": "markdown",
   "metadata": {},
   "source": [
    "### Add date column that combines weekday, date day, month, and year of holiday"
   ]
  },
  {
   "cell_type": "code",
   "execution_count": 9,
   "metadata": {},
   "outputs": [],
   "source": [
    "data[\"date\"] = (data[\"week_day\"].astype(str) + \" \" + data[\"date_month\"].astype(str) + \"/\" + data[\"date_day\"].astype(str) + \"/\" + data[\"date_year\"].astype(str))\n",
    "data.drop(['date_day', 'date_month', 'date_year', 'week_day'], inplace=True, axis=1)"
   ]
  },
  {
   "cell_type": "markdown",
   "metadata": {},
   "source": [
    "### Reorder columns"
   ]
  },
  {
   "cell_type": "code",
   "execution_count": 10,
   "metadata": {},
   "outputs": [],
   "source": [
    "data = data[['name', 'date', 'type', 'country']]"
   ]
  },
  {
   "cell_type": "markdown",
   "metadata": {},
   "source": [
    "### Update new CSV file written to disk (local file)"
   ]
  },
  {
   "cell_type": "code",
   "execution_count": 11,
   "metadata": {},
   "outputs": [],
   "source": [
    "data.to_csv('holiday.csv', index=None)"
   ]
  },
  {
   "cell_type": "markdown",
   "metadata": {},
   "source": [
    "## Produce informative error if file doesn't exist to update"
   ]
  },
  {
   "cell_type": "code",
   "execution_count": 12,
   "metadata": {},
   "outputs": [],
   "source": [
    "try:\n",
    "    with open('holiday.csv') as file:\n",
    "        read_data = file.read()\n",
    "except FileNotFoundError as fnf_error:\n",
    "    print(fnf_error)"
   ]
  },
  {
   "cell_type": "markdown",
   "metadata": {},
   "source": [
    "## Brief summary of data file ingestion for SQLite database"
   ]
  },
  {
   "cell_type": "markdown",
   "metadata": {},
   "source": [
    "### Connecting to sqlite\n",
    "#### Connection object"
   ]
  },
  {
   "cell_type": "code",
   "execution_count": 19,
   "metadata": {},
   "outputs": [],
   "source": [
    "connection_obj = sqlite3.connect('holiday.sqlite')"
   ]
  },
  {
   "cell_type": "markdown",
   "metadata": {},
   "source": [
    "#### Cursor object"
   ]
  },
  {
   "cell_type": "code",
   "execution_count": 20,
   "metadata": {},
   "outputs": [],
   "source": [
    "cursor_obj = connection_obj.cursor()"
   ]
  },
  {
   "cell_type": "markdown",
   "metadata": {},
   "source": [
    "### How many records and columns are in the SQLite database:"
   ]
  },
  {
   "cell_type": "code",
   "execution_count": 13,
   "metadata": {},
   "outputs": [
    {
     "name": "stdout",
     "output_type": "stream",
     "text": [
      "Number of Records: \n",
      "848\n",
      "Number of Columns: \n",
      "4\n"
     ]
    }
   ],
   "source": [
    "print(\"Number of Records: \")\n",
    "cursor_obj.execute(\"SELECT * FROM HOLIDAY\")\n",
    "print(len(cursor_obj.fetchall()))\n",
    "\n",
    "print(\"Number of Columns: \")\n",
    "cursor_obj.execute(\"SELECT * FROM pragma_table_info('HOLIDAY')\")\n",
    "print(len(cursor_obj.fetchall()))"
   ]
  },
  {
   "cell_type": "markdown",
   "metadata": {},
   "source": [
    "### Close the connection"
   ]
  },
  {
   "cell_type": "code",
   "execution_count": 21,
   "metadata": {},
   "outputs": [],
   "source": [
    "connection_obj.close()"
   ]
  },
  {
   "cell_type": "markdown",
   "metadata": {},
   "source": [
    "## Brief summary of data file ingestion for CSV file"
   ]
  },
  {
   "cell_type": "markdown",
   "metadata": {},
   "source": [
    "### How many records and columns are in the CSV file:"
   ]
  },
  {
   "cell_type": "code",
   "execution_count": 14,
   "metadata": {},
   "outputs": [
    {
     "name": "stdout",
     "output_type": "stream",
     "text": [
      "Number of Records: 424\n",
      "Number of Columns: 4\n"
     ]
    }
   ],
   "source": [
    "total_records = len(data.axes[0])\n",
    "total_columns = len(data.axes[1])\n",
    "print(\"Number of Records: \"+ str(total_records))\n",
    "print(\"Number of Columns: \"+ str(total_columns))"
   ]
  }
 ],
 "metadata": {
  "kernelspec": {
   "display_name": "Python 3 (ipykernel)",
   "language": "python",
   "name": "python3"
  },
  "language_info": {
   "codemirror_mode": {
    "name": "ipython",
    "version": 3
   },
   "file_extension": ".py",
   "mimetype": "text/x-python",
   "name": "python",
   "nbconvert_exporter": "python",
   "pygments_lexer": "ipython3",
   "version": "3.7.3"
  }
 },
 "nbformat": 4,
 "nbformat_minor": 2
}
